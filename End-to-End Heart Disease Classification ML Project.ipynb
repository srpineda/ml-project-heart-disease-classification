{
 "cells": [
  {
   "cell_type": "markdown",
   "metadata": {},
   "source": [
    "# Predicting heart disease using machine learning\n",
    "\n",
    "This notebook looks into using various Python-based machine learning and data science libraries in an attempt to build a machine learning model capable of predicting whether or not someone has heart disease based on their medical attributes.\n",
    "\n",
    "Approach:\n",
    "1. Problem definition\n",
    "2. Data\n",
    "3. Evaluation\n",
    "4. Features\n",
    "5. Modelling\n",
    "6. Experimentation"
   ]
  },
  {
   "cell_type": "markdown",
   "metadata": {},
   "source": [
    "## 1. Problem Definition\n",
    "> Given clinical parameters about a patient, can we predict whether or not they have heart disease?\n",
    "\n",
    "## 2. Data\n",
    "The original data came from the Cleveland data from the UCI Machine Learning Repository. \n",
    "https://archive.ics.uci.edu/ml/datasets/heart+disease\n",
    "\n",
    "There is also a version of it available on Kaggle. \n",
    "https://www.kaggle.com/ronitf/heart-disease-uci\n",
    "\n",
    "## 3. Evaluation\n",
    "> If we can reach 95% accuracy at predicting whether or not a patient has heart disease during the proof of concept, we'll pursue the project.\n",
    "\n",
    "## 4. Features\n",
    "This is where you'll get different information about each of the features in your data.\n",
    "\n",
    "**Create data dictionary**\n",
    "\n",
    "* age: age (in years)\n",
    "* sex: sex (1 = male; 0 = female)\n",
    "* cp: chest pain type\n",
    "    - Value 1: typical angina\n",
    "    - Value 2: atypical angina\n",
    "    - Value 3: non-anginal pain\n",
    "    - Value 4: asymptomatic\n",
    "* trestbps: resting blood pressure (in mm Hg on admission to the hospital)\n",
    "* chol: serum cholestoral in mg/dl\n",
    "* fbs:  (fasting blood sugar > 120 mg/dl) (1 = true; 0 = false)\n",
    "*  restecg: resting electrocardiographic results\n",
    "    - Value 0: normal\n",
    "    - Value 1: having ST-T wave abnormality (T wave inversions and/or ST elevation or depression of > 0.05 mV)\n",
    "    - Value 2: showing probable or definite left ventricular hypertrophy by Estes' criteria\n",
    "* thalach: maximum heart rate achieved\n",
    "* exang: exercise induced angina (1 = yes; 0 = no)\n",
    "* oldpeak = ST depression induced by exercise relative to rest\n",
    "* slope: the slope of the peak exercise ST segment\n",
    "    - Value 1: upsloping\n",
    "    - Value 2: flat\n",
    "    - Value 3: downsloping\n",
    "* ca: number of major vessels (0-3) colored by flourosopy\n",
    "* thal: 3 = normal; 6 = fixed defect; 7 = reversable defect"
   ]
  },
  {
   "cell_type": "markdown",
   "metadata": {},
   "source": [
    "# Tools\n",
    "We'll use Pandas, Matplotlib, and Numpy for Data Analysis and Manipulation. Scikit-Learn for Machine Learning."
   ]
  },
  {
   "cell_type": "code",
   "execution_count": 2,
   "metadata": {},
   "outputs": [],
   "source": [
    "# Regular EDA (Exploratory Data Analysis) and Plotting Libraries\n",
    "import pandas as pd\n",
    "import numpy as np\n",
    "import matplotlib.pyplot as plt\n",
    "import seaborn as sns\n",
    "# %matplotlib inline - to put plots within the notebook. We comment this out because it is already inline by default\n",
    "\n",
    "# Models from Scikit-Learn\n",
    "from sklearn.linear_model import LogisticRegression\n",
    "from sklearn.neighbors import KNeighborsClassifier\n",
    "from sklearn.ensemble import RandomForestClassifier\n",
    "\n",
    "# Model Evaluations\n",
    "from sklearn.model_selection import train_test_split, cross_val_score, RandomizedSearchCV, GridSearchCV\n",
    "from sklearn.metrics import classification_report, precision_score, recall_score, f1_score\n",
    "from sklearn.metrics import confusion_matrix, plot_confusion_matrix, plot_roc_curve"
   ]
  },
  {
   "cell_type": "code",
   "execution_count": 3,
   "metadata": {},
   "outputs": [
    {
     "name": "stdout",
     "output_type": "stream",
     "text": [
      "<class 'pandas.core.frame.DataFrame'>\n",
      "RangeIndex: 303 entries, 0 to 302\n",
      "Data columns (total 14 columns):\n",
      " #   Column    Non-Null Count  Dtype  \n",
      "---  ------    --------------  -----  \n",
      " 0   age       303 non-null    int64  \n",
      " 1   sex       303 non-null    int64  \n",
      " 2   cp        303 non-null    int64  \n",
      " 3   trestbps  303 non-null    int64  \n",
      " 4   chol      303 non-null    int64  \n",
      " 5   fbs       303 non-null    int64  \n",
      " 6   restecg   303 non-null    int64  \n",
      " 7   thalach   303 non-null    int64  \n",
      " 8   exang     303 non-null    int64  \n",
      " 9   oldpeak   303 non-null    float64\n",
      " 10  slope     303 non-null    int64  \n",
      " 11  ca        303 non-null    int64  \n",
      " 12  thal      303 non-null    int64  \n",
      " 13  target    303 non-null    int64  \n",
      "dtypes: float64(1), int64(13)\n",
      "memory usage: 33.3 KB\n"
     ]
    }
   ],
   "source": [
    "# Load the data\n",
    "\n",
    "df = pd.read_csv('heart-disease.csv')\n",
    "df.info()"
   ]
  },
  {
   "cell_type": "markdown",
   "metadata": {},
   "source": [
    "## Data Exploration (EDA)\n",
    "\n",
    "Goal: Find out more about the data and become a subject matter expert on the data.\n",
    "    \n",
    "1. What question(s) are we trying to solve?\n",
    "> Whether or not we can find enough patterns in the data to predict heart disease.\n",
    "2. What kind of data do we have and how do we treat different types? \n",
    "> In this problem, our data is purely numerical.\n",
    "3. What's missing from the data and how do we deal with them?\n",
    "> There are no missing values.\n",
    "4. Where are the outliers and why should we care about them?\n",
    "5. How can we add, change, or remove features to get more out of our data?\n",
    "    \n"
   ]
  },
  {
   "cell_type": "markdown",
   "metadata": {},
   "source": [
    "### Data according to label"
   ]
  },
  {
   "cell_type": "code",
   "execution_count": 3,
   "metadata": {},
   "outputs": [
    {
     "data": {
      "text/plain": [
       "1    165\n",
       "0    138\n",
       "Name: target, dtype: int64"
      ]
     },
     "execution_count": 3,
     "metadata": {},
     "output_type": "execute_result"
    }
   ],
   "source": [
    "# Is our data balanced or imbalanced?\n",
    "df['target'].value_counts()"
   ]
  },
  {
   "cell_type": "code",
   "execution_count": 4,
   "metadata": {},
   "outputs": [
    {
     "data": {
      "image/png": "[encoded data removed]",
      "text/plain": [
       "<Figure size 432x288 with 1 Axes>"
      ]
     },
     "metadata": {
      "needs_background": "light"
     },
     "output_type": "display_data"
    }
   ],
   "source": [
    "df['target'].value_counts().plot(kind='bar', color=['pink', 'lightblue'])\n",
    "plt.xticks(rotation=0)\n",
    "plt.ylabel('Number of people')\n",
    "plt.xlabel('1 = with; 0 = without')\n",
    "plt.title('Number of people with and without heart disease');"
   ]
  },
  {
   "cell_type": "markdown",
   "metadata": {},
   "source": [
    "The data between those with and without heart disease is relatively balanced."
   ]
  },
  {
   "cell_type": "code",
   "execution_count": 5,
   "metadata": {},
   "outputs": [
    {
     "data": {
      "text/plain": [
       "age         0\n",
       "sex         0\n",
       "cp          0\n",
       "trestbps    0\n",
       "chol        0\n",
       "fbs         0\n",
       "restecg     0\n",
       "thalach     0\n",
       "exang       0\n",
       "oldpeak     0\n",
       "slope       0\n",
       "ca          0\n",
       "thal        0\n",
       "target      0\n",
       "dtype: int64"
      ]
     },
     "execution_count": 5,
     "metadata": {},
     "output_type": "execute_result"
    }
   ],
   "source": [
    "# Missing values?\n",
    "df.isna().sum()"
   ]
  },
  {
   "cell_type": "code",
   "execution_count": 6,
   "metadata": {},
   "outputs": [
    {
     "data": {
      "text/html": [
       "<div>\n",
       "<style scoped>\n",
       "    .dataframe tbody tr th:only-of-type {\n",
       "        vertical-align: middle;\n",
       "    }\n",
       "\n",
       "    .dataframe tbody tr th {\n",
       "        vertical-align: top;\n",
       "    }\n",
       "\n",
       "    .dataframe thead th {\n",
       "        text-align: right;\n",
       "    }\n",
       "</style>\n",
       "<table border=\"1\" class=\"dataframe\">\n",
       "  <thead>\n",
       "    <tr style=\"text-align: right;\">\n",
       "      <th></th>\n",
       "      <th>age</th>\n",
       "      <th>sex</th>\n",
       "      <th>cp</th>\n",
       "      <th>trestbps</th>\n",
       "      <th>chol</th>\n",
       "      <th>fbs</th>\n",
       "      <th>restecg</th>\n",
       "      <th>thalach</th>\n",
       "      <th>exang</th>\n",
       "      <th>oldpeak</th>\n",
       "      <th>slope</th>\n",
       "      <th>ca</th>\n",
       "      <th>thal</th>\n",
       "      <th>target</th>\n",
       "    </tr>\n",
       "  </thead>\n",
       "  <tbody>\n",
       "    <tr>\n",
       "      <th>count</th>\n",
       "      <td>303.000000</td>\n",
       "      <td>303.000000</td>\n",
       "      <td>303.000000</td>\n",
       "      <td>303.000000</td>\n",
       "      <td>303.000000</td>\n",
       "      <td>303.000000</td>\n",
       "      <td>303.000000</td>\n",
       "      <td>303.000000</td>\n",
       "      <td>303.000000</td>\n",
       "      <td>303.000000</td>\n",
       "      <td>303.000000</td>\n",
       "      <td>303.000000</td>\n",
       "      <td>303.000000</td>\n",
       "      <td>303.000000</td>\n",
       "    </tr>\n",
       "    <tr>\n",
       "      <th>mean</th>\n",
       "      <td>54.366337</td>\n",
       "      <td>0.683168</td>\n",
       "      <td>0.966997</td>\n",
       "      <td>131.623762</td>\n",
       "      <td>246.264026</td>\n",
       "      <td>0.148515</td>\n",
       "      <td>0.528053</td>\n",
       "      <td>149.646865</td>\n",
       "      <td>0.326733</td>\n",
       "      <td>1.039604</td>\n",
       "      <td>1.399340</td>\n",
       "      <td>0.729373</td>\n",
       "      <td>2.313531</td>\n",
       "      <td>0.544554</td>\n",
       "    </tr>\n",
       "    <tr>\n",
       "      <th>std</th>\n",
       "      <td>9.082101</td>\n",
       "      <td>0.466011</td>\n",
       "      <td>1.032052</td>\n",
       "      <td>17.538143</td>\n",
       "      <td>51.830751</td>\n",
       "      <td>0.356198</td>\n",
       "      <td>0.525860</td>\n",
       "      <td>22.905161</td>\n",
       "      <td>0.469794</td>\n",
       "      <td>1.161075</td>\n",
       "      <td>0.616226</td>\n",
       "      <td>1.022606</td>\n",
       "      <td>0.612277</td>\n",
       "      <td>0.498835</td>\n",
       "    </tr>\n",
       "    <tr>\n",
       "      <th>min</th>\n",
       "      <td>29.000000</td>\n",
       "      <td>0.000000</td>\n",
       "      <td>0.000000</td>\n",
       "      <td>94.000000</td>\n",
       "      <td>126.000000</td>\n",
       "      <td>0.000000</td>\n",
       "      <td>0.000000</td>\n",
       "      <td>71.000000</td>\n",
       "      <td>0.000000</td>\n",
       "      <td>0.000000</td>\n",
       "      <td>0.000000</td>\n",
       "      <td>0.000000</td>\n",
       "      <td>0.000000</td>\n",
       "      <td>0.000000</td>\n",
       "    </tr>\n",
       "    <tr>\n",
       "      <th>25%</th>\n",
       "      <td>47.500000</td>\n",
       "      <td>0.000000</td>\n",
       "      <td>0.000000</td>\n",
       "      <td>120.000000</td>\n",
       "      <td>211.000000</td>\n",
       "      <td>0.000000</td>\n",
       "      <td>0.000000</td>\n",
       "      <td>133.500000</td>\n",
       "      <td>0.000000</td>\n",
       "      <td>0.000000</td>\n",
       "      <td>1.000000</td>\n",
       "      <td>0.000000</td>\n",
       "      <td>2.000000</td>\n",
       "      <td>0.000000</td>\n",
       "    </tr>\n",
       "    <tr>\n",
       "      <th>50%</th>\n",
       "      <td>55.000000</td>\n",
       "      <td>1.000000</td>\n",
       "      <td>1.000000</td>\n",
       "      <td>130.000000</td>\n",
       "      <td>240.000000</td>\n",
       "      <td>0.000000</td>\n",
       "      <td>1.000000</td>\n",
       "      <td>153.000000</td>\n",
       "      <td>0.000000</td>\n",
       "      <td>0.800000</td>\n",
       "      <td>1.000000</td>\n",
       "      <td>0.000000</td>\n",
       "      <td>2.000000</td>\n",
       "      <td>1.000000</td>\n",
       "    </tr>\n",
       "    <tr>\n",
       "      <th>75%</th>\n",
       "      <td>61.000000</td>\n",
       "      <td>1.000000</td>\n",
       "      <td>2.000000</td>\n",
       "      <td>140.000000</td>\n",
       "      <td>274.500000</td>\n",
       "      <td>0.000000</td>\n",
       "      <td>1.000000</td>\n",
       "      <td>166.000000</td>\n",
       "      <td>1.000000</td>\n",
       "      <td>1.600000</td>\n",
       "      <td>2.000000</td>\n",
       "      <td>1.000000</td>\n",
       "      <td>3.000000</td>\n",
       "      <td>1.000000</td>\n",
       "    </tr>\n",
       "    <tr>\n",
       "      <th>max</th>\n",
       "      <td>77.000000</td>\n",
       "      <td>1.000000</td>\n",
       "      <td>3.000000</td>\n",
       "      <td>200.000000</td>\n",
       "      <td>564.000000</td>\n",
       "      <td>1.000000</td>\n",
       "      <td>2.000000</td>\n",
       "      <td>202.000000</td>\n",
       "      <td>1.000000</td>\n",
       "      <td>6.200000</td>\n",
       "      <td>2.000000</td>\n",
       "      <td>4.000000</td>\n",
       "      <td>3.000000</td>\n",
       "      <td>1.000000</td>\n",
       "    </tr>\n",
       "  </tbody>\n",
       "</table>\n",
       "</div>"
      ],
      "text/plain": [
       "              age         sex          cp    trestbps        chol         fbs  \\\n",
       "count  303.000000  303.000000  303.000000  303.000000  303.000000  303.000000   \n",
       "mean    54.366337    0.683168    0.966997  131.623762  246.264026    0.148515   \n",
       "std      9.082101    0.466011    1.032052   17.538143   51.830751    0.356198   \n",
       "min     29.000000    0.000000    0.000000   94.000000  126.000000    0.000000   \n",
       "25%     47.500000    0.000000    0.000000  120.000000  211.000000    0.000000   \n",
       "50%     55.000000    1.000000    1.000000  130.000000  240.000000    0.000000   \n",
       "75%     61.000000    1.000000    2.000000  140.000000  274.500000    0.000000   \n",
       "max     77.000000    1.000000    3.000000  200.000000  564.000000    1.000000   \n",
       "\n",
       "          restecg     thalach       exang     oldpeak       slope          ca  \\\n",
       "count  303.000000  303.000000  303.000000  303.000000  303.000000  303.000000   \n",
       "mean     0.528053  149.646865    0.326733    1.039604    1.399340    0.729373   \n",
       "std      0.525860   22.905161    0.469794    1.161075    0.616226    1.022606   \n",
       "min      0.000000   71.000000    0.000000    0.000000    0.000000    0.000000   \n",
       "25%      0.000000  133.500000    0.000000    0.000000    1.000000    0.000000   \n",
       "50%      1.000000  153.000000    0.000000    0.800000    1.000000    0.000000   \n",
       "75%      1.000000  166.000000    1.000000    1.600000    2.000000    1.000000   \n",
       "max      2.000000  202.000000    1.000000    6.200000    2.000000    4.000000   \n",
       "\n",
       "             thal      target  \n",
       "count  303.000000  303.000000  \n",
       "mean     2.313531    0.544554  \n",
       "std      0.612277    0.498835  \n",
       "min      0.000000    0.000000  \n",
       "25%      2.000000    0.000000  \n",
       "50%      2.000000    1.000000  \n",
       "75%      3.000000    1.000000  \n",
       "max      3.000000    1.000000  "
      ]
     },
     "execution_count": 6,
     "metadata": {},
     "output_type": "execute_result"
    }
   ],
   "source": [
    "df.describe()"
   ]
  },
  {
   "cell_type": "markdown",
   "metadata": {},
   "source": [
    "### Heart Disease Frequency according to Sex"
   ]
  },
  {
   "cell_type": "code",
   "execution_count": 7,
   "metadata": {},
   "outputs": [
    {
     "data": {
      "text/plain": [
       "1    207\n",
       "0     96\n",
       "Name: sex, dtype: int64"
      ]
     },
     "execution_count": 7,
     "metadata": {},
     "output_type": "execute_result"
    }
   ],
   "source": [
    "df.sex.value_counts()"
   ]
  },
  {
   "cell_type": "code",
   "execution_count": 8,
   "metadata": {},
   "outputs": [
    {
     "data": {
      "text/html": [
       "<div>\n",
       "<style scoped>\n",
       "    .dataframe tbody tr th:only-of-type {\n",
       "        vertical-align: middle;\n",
       "    }\n",
       "\n",
       "    .dataframe tbody tr th {\n",
       "        vertical-align: top;\n",
       "    }\n",
       "\n",
       "    .dataframe thead th {\n",
       "        text-align: right;\n",
       "    }\n",
       "</style>\n",
       "<table border=\"1\" class=\"dataframe\">\n",
       "  <thead>\n",
       "    <tr style=\"text-align: right;\">\n",
       "      <th>sex</th>\n",
       "      <th>0</th>\n",
       "      <th>1</th>\n",
       "    </tr>\n",
       "    <tr>\n",
       "      <th>target</th>\n",
       "      <th></th>\n",
       "      <th></th>\n",
       "    </tr>\n",
       "  </thead>\n",
       "  <tbody>\n",
       "    <tr>\n",
       "      <th>0</th>\n",
       "      <td>24</td>\n",
       "      <td>114</td>\n",
       "    </tr>\n",
       "    <tr>\n",
       "      <th>1</th>\n",
       "      <td>72</td>\n",
       "      <td>93</td>\n",
       "    </tr>\n",
       "  </tbody>\n",
       "</table>\n",
       "</div>"
      ],
      "text/plain": [
       "sex      0    1\n",
       "target         \n",
       "0       24  114\n",
       "1       72   93"
      ]
     },
     "execution_count": 8,
     "metadata": {},
     "output_type": "execute_result"
    }
   ],
   "source": [
    "pd.crosstab(df.target, df.sex)"
   ]
  },
  {
   "cell_type": "code",
   "execution_count": 9,
   "metadata": {},
   "outputs": [
    {
     "data": {
      "image/png": "[encoded data removed]",
      "text/plain": [
       "<Figure size 432x288 with 1 Axes>"
      ]
     },
     "metadata": {
      "needs_background": "light"
     },
     "output_type": "display_data"
    }
   ],
   "source": [
    "pd.crosstab(df.target, df.sex).plot.bar()\n",
    "plt.title('Heart Disease Frequency according to Sex')\n",
    "plt.xticks(rotation=0)\n",
    "plt.xlabel('1 = with heart disease; 0 = without heart disease')\n",
    "plt.ylabel('Number of people')\n",
    "plt.legend(['Female', 'Male']);"
   ]
  },
  {
   "cell_type": "markdown",
   "metadata": {},
   "source": [
    "### Heart Disease function of Age and Max Heart Rate"
   ]
  },
  {
   "cell_type": "code",
   "execution_count": 10,
   "metadata": {},
   "outputs": [
    {
     "data": {
      "image/png": "[encoded data removed]",
      "text/plain": [
       "<Figure size 720x432 with 1 Axes>"
      ]
     },
     "metadata": {
      "needs_background": "light"
     },
     "output_type": "display_data"
    }
   ],
   "source": [
    "plt.figure(figsize=(10,6))\n",
    "\n",
    "# Scatter plot with positive examples\n",
    "plt.scatter(df.age[df.target==1], df.thalach[df.target==1], c='tab:red')\n",
    "\n",
    "# Scatter plot with negative examples\n",
    "plt.scatter(df.age[df.target==0], df.thalach[df.target==0], c='royalblue')\n",
    "\n",
    "plt.xlabel('Age')\n",
    "plt.ylabel('Max Heart Rate')\n",
    "plt.title('Heart Disease function of Age and Max Heart Rate')\n",
    "plt.legend(['with heart disease', 'without heart disease']);"
   ]
  },
  {
   "cell_type": "code",
   "execution_count": 11,
   "metadata": {},
   "outputs": [
    {
     "data": {
      "image/png": "[encoded data removed]",
      "text/plain": [
       "<Figure size 432x288 with 1 Axes>"
      ]
     },
     "metadata": {
      "needs_background": "light"
     },
     "output_type": "display_data"
    }
   ],
   "source": [
    "# Check distribution of Age with a histogram\n",
    "df.age.plot.hist();"
   ]
  },
  {
   "cell_type": "markdown",
   "metadata": {},
   "source": [
    "### Heart Disease Frequency per Chest Pain type\n",
    "cp: chest pain type\n",
    "- Value 1: typical angina\n",
    "- Value 2: atypical angina\n",
    "- Value 3: non-anginal pain\n",
    "- Value 4: asymptomatic"
   ]
  },
  {
   "cell_type": "code",
   "execution_count": 12,
   "metadata": {},
   "outputs": [
    {
     "data": {
      "text/html": [
       "<div>\n",
       "<style scoped>\n",
       "    .dataframe tbody tr th:only-of-type {\n",
       "        vertical-align: middle;\n",
       "    }\n",
       "\n",
       "    .dataframe tbody tr th {\n",
       "        vertical-align: top;\n",
       "    }\n",
       "\n",
       "    .dataframe thead th {\n",
       "        text-align: right;\n",
       "    }\n",
       "</style>\n",
       "<table border=\"1\" class=\"dataframe\">\n",
       "  <thead>\n",
       "    <tr style=\"text-align: right;\">\n",
       "      <th>target</th>\n",
       "      <th>0</th>\n",
       "      <th>1</th>\n",
       "    </tr>\n",
       "    <tr>\n",
       "      <th>cp</th>\n",
       "      <th></th>\n",
       "      <th></th>\n",
       "    </tr>\n",
       "  </thead>\n",
       "  <tbody>\n",
       "    <tr>\n",
       "      <th>0</th>\n",
       "      <td>104</td>\n",
       "      <td>39</td>\n",
       "    </tr>\n",
       "    <tr>\n",
       "      <th>1</th>\n",
       "      <td>9</td>\n",
       "      <td>41</td>\n",
       "    </tr>\n",
       "    <tr>\n",
       "      <th>2</th>\n",
       "      <td>18</td>\n",
       "      <td>69</td>\n",
       "    </tr>\n",
       "    <tr>\n",
       "      <th>3</th>\n",
       "      <td>7</td>\n",
       "      <td>16</td>\n",
       "    </tr>\n",
       "  </tbody>\n",
       "</table>\n",
       "</div>"
      ],
      "text/plain": [
       "target    0   1\n",
       "cp             \n",
       "0       104  39\n",
       "1         9  41\n",
       "2        18  69\n",
       "3         7  16"
      ]
     },
     "execution_count": 12,
     "metadata": {},
     "output_type": "execute_result"
    }
   ],
   "source": [
    "pd.crosstab(df.cp, df.target)"
   ]
  },
  {
   "cell_type": "code",
   "execution_count": 13,
   "metadata": {},
   "outputs": [
    {
     "data": {
      "image/png": "[encoded data removed]",
      "text/plain": [
       "<Figure size 720x504 with 1 Axes>"
      ]
     },
     "metadata": {
      "needs_background": "light"
     },
     "output_type": "display_data"
    }
   ],
   "source": [
    "pd.crosstab(df.cp, df.target).plot.bar(figsize=(10,7),\n",
    "                                       color=['tab:red', 'royalblue'])\n",
    "plt.xticks(ticks=[0,1,2,3],\n",
    "           labels=['0: typical angina',\n",
    "                   '1: atypical angina', \n",
    "                   '2: non-anginal pain', \n",
    "                   '3: asymptomatic'], \n",
    "           rotation=0)\n",
    "plt.xlabel('Chest Pain Type')\n",
    "plt.ylabel('Number of people')\n",
    "plt.legend(['0: without heart disease',\n",
    "            '1: with heart disease'],\n",
    "           title='target')\n",
    "plt.title('Heart Disease Frequency per Chest Pain Type');"
   ]
  },
  {
   "cell_type": "markdown",
   "metadata": {},
   "source": [
    "## Correlation Matrix"
   ]
  },
  {
   "cell_type": "code",
   "execution_count": 14,
   "metadata": {},
   "outputs": [
    {
     "data": {
      "text/html": [
       "<div>\n",
       "<style scoped>\n",
       "    .dataframe tbody tr th:only-of-type {\n",
       "        vertical-align: middle;\n",
       "    }\n",
       "\n",
       "    .dataframe tbody tr th {\n",
       "        vertical-align: top;\n",
       "    }\n",
       "\n",
       "    .dataframe thead th {\n",
       "        text-align: right;\n",
       "    }\n",
       "</style>\n",
       "<table border=\"1\" class=\"dataframe\">\n",
       "  <thead>\n",
       "    <tr style=\"text-align: right;\">\n",
       "      <th></th>\n",
       "      <th>age</th>\n",
       "      <th>sex</th>\n",
       "      <th>cp</th>\n",
       "      <th>trestbps</th>\n",
       "      <th>chol</th>\n",
       "      <th>fbs</th>\n",
       "      <th>restecg</th>\n",
       "      <th>thalach</th>\n",
       "      <th>exang</th>\n",
       "      <th>oldpeak</th>\n",
       "      <th>slope</th>\n",
       "      <th>ca</th>\n",
       "      <th>thal</th>\n",
       "      <th>target</th>\n",
       "    </tr>\n",
       "  </thead>\n",
       "  <tbody>\n",
       "    <tr>\n",
       "      <th>age</th>\n",
       "      <td>1.000000</td>\n",
       "      <td>-0.098447</td>\n",
       "      <td>-0.068653</td>\n",
       "      <td>0.279351</td>\n",
       "      <td>0.213678</td>\n",
       "      <td>0.121308</td>\n",
       "      <td>-0.116211</td>\n",
       "      <td>-0.398522</td>\n",
       "      <td>0.096801</td>\n",
       "      <td>0.210013</td>\n",
       "      <td>-0.168814</td>\n",
       "      <td>0.276326</td>\n",
       "      <td>0.068001</td>\n",
       "      <td>-0.225439</td>\n",
       "    </tr>\n",
       "    <tr>\n",
       "      <th>sex</th>\n",
       "      <td>-0.098447</td>\n",
       "      <td>1.000000</td>\n",
       "      <td>-0.049353</td>\n",
       "      <td>-0.056769</td>\n",
       "      <td>-0.197912</td>\n",
       "      <td>0.045032</td>\n",
       "      <td>-0.058196</td>\n",
       "      <td>-0.044020</td>\n",
       "      <td>0.141664</td>\n",
       "      <td>0.096093</td>\n",
       "      <td>-0.030711</td>\n",
       "      <td>0.118261</td>\n",
       "      <td>0.210041</td>\n",
       "      <td>-0.280937</td>\n",
       "    </tr>\n",
       "    <tr>\n",
       "      <th>cp</th>\n",
       "      <td>-0.068653</td>\n",
       "      <td>-0.049353</td>\n",
       "      <td>1.000000</td>\n",
       "      <td>0.047608</td>\n",
       "      <td>-0.076904</td>\n",
       "      <td>0.094444</td>\n",
       "      <td>0.044421</td>\n",
       "      <td>0.295762</td>\n",
       "      <td>-0.394280</td>\n",
       "      <td>-0.149230</td>\n",
       "      <td>0.119717</td>\n",
       "      <td>-0.181053</td>\n",
       "      <td>-0.161736</td>\n",
       "      <td>0.433798</td>\n",
       "    </tr>\n",
       "    <tr>\n",
       "      <th>trestbps</th>\n",
       "      <td>0.279351</td>\n",
       "      <td>-0.056769</td>\n",
       "      <td>0.047608</td>\n",
       "      <td>1.000000</td>\n",
       "      <td>0.123174</td>\n",
       "      <td>0.177531</td>\n",
       "      <td>-0.114103</td>\n",
       "      <td>-0.046698</td>\n",
       "      <td>0.067616</td>\n",
       "      <td>0.193216</td>\n",
       "      <td>-0.121475</td>\n",
       "      <td>0.101389</td>\n",
       "      <td>0.062210</td>\n",
       "      <td>-0.144931</td>\n",
       "    </tr>\n",
       "    <tr>\n",
       "      <th>chol</th>\n",
       "      <td>0.213678</td>\n",
       "      <td>-0.197912</td>\n",
       "      <td>-0.076904</td>\n",
       "      <td>0.123174</td>\n",
       "      <td>1.000000</td>\n",
       "      <td>0.013294</td>\n",
       "      <td>-0.151040</td>\n",
       "      <td>-0.009940</td>\n",
       "      <td>0.067023</td>\n",
       "      <td>0.053952</td>\n",
       "      <td>-0.004038</td>\n",
       "      <td>0.070511</td>\n",
       "      <td>0.098803</td>\n",
       "      <td>-0.085239</td>\n",
       "    </tr>\n",
       "    <tr>\n",
       "      <th>fbs</th>\n",
       "      <td>0.121308</td>\n",
       "      <td>0.045032</td>\n",
       "      <td>0.094444</td>\n",
       "      <td>0.177531</td>\n",
       "      <td>0.013294</td>\n",
       "      <td>1.000000</td>\n",
       "      <td>-0.084189</td>\n",
       "      <td>-0.008567</td>\n",
       "      <td>0.025665</td>\n",
       "      <td>0.005747</td>\n",
       "      <td>-0.059894</td>\n",
       "      <td>0.137979</td>\n",
       "      <td>-0.032019</td>\n",
       "      <td>-0.028046</td>\n",
       "    </tr>\n",
       "    <tr>\n",
       "      <th>restecg</th>\n",
       "      <td>-0.116211</td>\n",
       "      <td>-0.058196</td>\n",
       "      <td>0.044421</td>\n",
       "      <td>-0.114103</td>\n",
       "      <td>-0.151040</td>\n",
       "      <td>-0.084189</td>\n",
       "      <td>1.000000</td>\n",
       "      <td>0.044123</td>\n",
       "      <td>-0.070733</td>\n",
       "      <td>-0.058770</td>\n",
       "      <td>0.093045</td>\n",
       "      <td>-0.072042</td>\n",
       "      <td>-0.011981</td>\n",
       "      <td>0.137230</td>\n",
       "    </tr>\n",
       "    <tr>\n",
       "      <th>thalach</th>\n",
       "      <td>-0.398522</td>\n",
       "      <td>-0.044020</td>\n",
       "      <td>0.295762</td>\n",
       "      <td>-0.046698</td>\n",
       "      <td>-0.009940</td>\n",
       "      <td>-0.008567</td>\n",
       "      <td>0.044123</td>\n",
       "      <td>1.000000</td>\n",
       "      <td>-0.378812</td>\n",
       "      <td>-0.344187</td>\n",
       "      <td>0.386784</td>\n",
       "      <td>-0.213177</td>\n",
       "      <td>-0.096439</td>\n",
       "      <td>0.421741</td>\n",
       "    </tr>\n",
       "    <tr>\n",
       "      <th>exang</th>\n",
       "      <td>0.096801</td>\n",
       "      <td>0.141664</td>\n",
       "      <td>-0.394280</td>\n",
       "      <td>0.067616</td>\n",
       "      <td>0.067023</td>\n",
       "      <td>0.025665</td>\n",
       "      <td>-0.070733</td>\n",
       "      <td>-0.378812</td>\n",
       "      <td>1.000000</td>\n",
       "      <td>0.288223</td>\n",
       "      <td>-0.257748</td>\n",
       "      <td>0.115739</td>\n",
       "      <td>0.206754</td>\n",
       "      <td>-0.436757</td>\n",
       "    </tr>\n",
       "    <tr>\n",
       "      <th>oldpeak</th>\n",
       "      <td>0.210013</td>\n",
       "      <td>0.096093</td>\n",
       "      <td>-0.149230</td>\n",
       "      <td>0.193216</td>\n",
       "      <td>0.053952</td>\n",
       "      <td>0.005747</td>\n",
       "      <td>-0.058770</td>\n",
       "      <td>-0.344187</td>\n",
       "      <td>0.288223</td>\n",
       "      <td>1.000000</td>\n",
       "      <td>-0.577537</td>\n",
       "      <td>0.222682</td>\n",
       "      <td>0.210244</td>\n",
       "      <td>-0.430696</td>\n",
       "    </tr>\n",
       "    <tr>\n",
       "      <th>slope</th>\n",
       "      <td>-0.168814</td>\n",
       "      <td>-0.030711</td>\n",
       "      <td>0.119717</td>\n",
       "      <td>-0.121475</td>\n",
       "      <td>-0.004038</td>\n",
       "      <td>-0.059894</td>\n",
       "      <td>0.093045</td>\n",
       "      <td>0.386784</td>\n",
       "      <td>-0.257748</td>\n",
       "      <td>-0.577537</td>\n",
       "      <td>1.000000</td>\n",
       "      <td>-0.080155</td>\n",
       "      <td>-0.104764</td>\n",
       "      <td>0.345877</td>\n",
       "    </tr>\n",
       "    <tr>\n",
       "      <th>ca</th>\n",
       "      <td>0.276326</td>\n",
       "      <td>0.118261</td>\n",
       "      <td>-0.181053</td>\n",
       "      <td>0.101389</td>\n",
       "      <td>0.070511</td>\n",
       "      <td>0.137979</td>\n",
       "      <td>-0.072042</td>\n",
       "      <td>-0.213177</td>\n",
       "      <td>0.115739</td>\n",
       "      <td>0.222682</td>\n",
       "      <td>-0.080155</td>\n",
       "      <td>1.000000</td>\n",
       "      <td>0.151832</td>\n",
       "      <td>-0.391724</td>\n",
       "    </tr>\n",
       "    <tr>\n",
       "      <th>thal</th>\n",
       "      <td>0.068001</td>\n",
       "      <td>0.210041</td>\n",
       "      <td>-0.161736</td>\n",
       "      <td>0.062210</td>\n",
       "      <td>0.098803</td>\n",
       "      <td>-0.032019</td>\n",
       "      <td>-0.011981</td>\n",
       "      <td>-0.096439</td>\n",
       "      <td>0.206754</td>\n",
       "      <td>0.210244</td>\n",
       "      <td>-0.104764</td>\n",
       "      <td>0.151832</td>\n",
       "      <td>1.000000</td>\n",
       "      <td>-0.344029</td>\n",
       "    </tr>\n",
       "    <tr>\n",
       "      <th>target</th>\n",
       "      <td>-0.225439</td>\n",
       "      <td>-0.280937</td>\n",
       "      <td>0.433798</td>\n",
       "      <td>-0.144931</td>\n",
       "      <td>-0.085239</td>\n",
       "      <td>-0.028046</td>\n",
       "      <td>0.137230</td>\n",
       "      <td>0.421741</td>\n",
       "      <td>-0.436757</td>\n",
       "      <td>-0.430696</td>\n",
       "      <td>0.345877</td>\n",
       "      <td>-0.391724</td>\n",
       "      <td>-0.344029</td>\n",
       "      <td>1.000000</td>\n",
       "    </tr>\n",
       "  </tbody>\n",
       "</table>\n",
       "</div>"
      ],
      "text/plain": [
       "               age       sex        cp  trestbps      chol       fbs  \\\n",
       "age       1.000000 -0.098447 -0.068653  0.279351  0.213678  0.121308   \n",
       "sex      -0.098447  1.000000 -0.049353 -0.056769 -0.197912  0.045032   \n",
       "cp       -0.068653 -0.049353  1.000000  0.047608 -0.076904  0.094444   \n",
       "trestbps  0.279351 -0.056769  0.047608  1.000000  0.123174  0.177531   \n",
       "chol      0.213678 -0.197912 -0.076904  0.123174  1.000000  0.013294   \n",
       "fbs       0.121308  0.045032  0.094444  0.177531  0.013294  1.000000   \n",
       "restecg  -0.116211 -0.058196  0.044421 -0.114103 -0.151040 -0.084189   \n",
       "thalach  -0.398522 -0.044020  0.295762 -0.046698 -0.009940 -0.008567   \n",
       "exang     0.096801  0.141664 -0.394280  0.067616  0.067023  0.025665   \n",
       "oldpeak   0.210013  0.096093 -0.149230  0.193216  0.053952  0.005747   \n",
       "slope    -0.168814 -0.030711  0.119717 -0.121475 -0.004038 -0.059894   \n",
       "ca        0.276326  0.118261 -0.181053  0.101389  0.070511  0.137979   \n",
       "thal      0.068001  0.210041 -0.161736  0.062210  0.098803 -0.032019   \n",
       "target   -0.225439 -0.280937  0.433798 -0.144931 -0.085239 -0.028046   \n",
       "\n",
       "           restecg   thalach     exang   oldpeak     slope        ca  \\\n",
       "age      -0.116211 -0.398522  0.096801  0.210013 -0.168814  0.276326   \n",
       "sex      -0.058196 -0.044020  0.141664  0.096093 -0.030711  0.118261   \n",
       "cp        0.044421  0.295762 -0.394280 -0.149230  0.119717 -0.181053   \n",
       "trestbps -0.114103 -0.046698  0.067616  0.193216 -0.121475  0.101389   \n",
       "chol     -0.151040 -0.009940  0.067023  0.053952 -0.004038  0.070511   \n",
       "fbs      -0.084189 -0.008567  0.025665  0.005747 -0.059894  0.137979   \n",
       "restecg   1.000000  0.044123 -0.070733 -0.058770  0.093045 -0.072042   \n",
       "thalach   0.044123  1.000000 -0.378812 -0.344187  0.386784 -0.213177   \n",
       "exang    -0.070733 -0.378812  1.000000  0.288223 -0.257748  0.115739   \n",
       "oldpeak  -0.058770 -0.344187  0.288223  1.000000 -0.577537  0.222682   \n",
       "slope     0.093045  0.386784 -0.257748 -0.577537  1.000000 -0.080155   \n",
       "ca       -0.072042 -0.213177  0.115739  0.222682 -0.080155  1.000000   \n",
       "thal     -0.011981 -0.096439  0.206754  0.210244 -0.104764  0.151832   \n",
       "target    0.137230  0.421741 -0.436757 -0.430696  0.345877 -0.391724   \n",
       "\n",
       "              thal    target  \n",
       "age       0.068001 -0.225439  \n",
       "sex       0.210041 -0.280937  \n",
       "cp       -0.161736  0.433798  \n",
       "trestbps  0.062210 -0.144931  \n",
       "chol      0.098803 -0.085239  \n",
       "fbs      -0.032019 -0.028046  \n",
       "restecg  -0.011981  0.137230  \n",
       "thalach  -0.096439  0.421741  \n",
       "exang     0.206754 -0.436757  \n",
       "oldpeak   0.210244 -0.430696  \n",
       "slope    -0.104764  0.345877  \n",
       "ca        0.151832 -0.391724  \n",
       "thal      1.000000 -0.344029  \n",
       "target   -0.344029  1.000000  "
      ]
     },
     "execution_count": 14,
     "metadata": {},
     "output_type": "execute_result"
    }
   ],
   "source": [
    "corr_matrix = df.corr()\n",
    "corr_matrix"
   ]
  },
  {
   "cell_type": "code",
   "execution_count": 15,
   "metadata": {},
   "outputs": [
    {
     "data": {
      "image/png": "[encoded data removed]",
      "text/plain": [
       "<Figure size 1080x720 with 2 Axes>"
      ]
     },
     "metadata": {
      "needs_background": "light"
     },
     "output_type": "display_data"
    }
   ],
   "source": [
    "fig, ax = plt.subplots(figsize=(15,10))\n",
    "ax = sns.heatmap(corr_matrix,\n",
    "                 annot=True,\n",
    "                 cmap='YlGnBu')"
   ]
  },
  {
   "cell_type": "markdown",
   "metadata": {},
   "source": [
    "## 5. Modelling\n",
    "\n",
    "We're going to try the following models:\n",
    "1. Logistic Regression\n",
    "2. K-Nearest Neighbors Classifier\n",
    "3. Random Forest Classifier"
   ]
  },
  {
   "cell_type": "code",
   "execution_count": 16,
   "metadata": {},
   "outputs": [
    {
     "data": {
      "text/html": [
       "<div>\n",
       "<style scoped>\n",
       "    .dataframe tbody tr th:only-of-type {\n",
       "        vertical-align: middle;\n",
       "    }\n",
       "\n",
       "    .dataframe tbody tr th {\n",
       "        vertical-align: top;\n",
       "    }\n",
       "\n",
       "    .dataframe thead th {\n",
       "        text-align: right;\n",
       "    }\n",
       "</style>\n",
       "<table border=\"1\" class=\"dataframe\">\n",
       "  <thead>\n",
       "    <tr style=\"text-align: right;\">\n",
       "      <th></th>\n",
       "      <th>age</th>\n",
       "      <th>sex</th>\n",
       "      <th>cp</th>\n",
       "      <th>trestbps</th>\n",
       "      <th>chol</th>\n",
       "      <th>fbs</th>\n",
       "      <th>restecg</th>\n",
       "      <th>thalach</th>\n",
       "      <th>exang</th>\n",
       "      <th>oldpeak</th>\n",
       "      <th>slope</th>\n",
       "      <th>ca</th>\n",
       "      <th>thal</th>\n",
       "      <th>target</th>\n",
       "    </tr>\n",
       "  </thead>\n",
       "  <tbody>\n",
       "    <tr>\n",
       "      <th>0</th>\n",
       "      <td>63</td>\n",
       "      <td>1</td>\n",
       "      <td>3</td>\n",
       "      <td>145</td>\n",
       "      <td>233</td>\n",
       "      <td>1</td>\n",
       "      <td>0</td>\n",
       "      <td>150</td>\n",
       "      <td>0</td>\n",
       "      <td>2.3</td>\n",
       "      <td>0</td>\n",
       "      <td>0</td>\n",
       "      <td>1</td>\n",
       "      <td>1</td>\n",
       "    </tr>\n",
       "    <tr>\n",
       "      <th>1</th>\n",
       "      <td>37</td>\n",
       "      <td>1</td>\n",
       "      <td>2</td>\n",
       "      <td>130</td>\n",
       "      <td>250</td>\n",
       "      <td>0</td>\n",
       "      <td>1</td>\n",
       "      <td>187</td>\n",
       "      <td>0</td>\n",
       "      <td>3.5</td>\n",
       "      <td>0</td>\n",
       "      <td>0</td>\n",
       "      <td>2</td>\n",
       "      <td>1</td>\n",
       "    </tr>\n",
       "    <tr>\n",
       "      <th>2</th>\n",
       "      <td>41</td>\n",
       "      <td>0</td>\n",
       "      <td>1</td>\n",
       "      <td>130</td>\n",
       "      <td>204</td>\n",
       "      <td>0</td>\n",
       "      <td>0</td>\n",
       "      <td>172</td>\n",
       "      <td>0</td>\n",
       "      <td>1.4</td>\n",
       "      <td>2</td>\n",
       "      <td>0</td>\n",
       "      <td>2</td>\n",
       "      <td>1</td>\n",
       "    </tr>\n",
       "    <tr>\n",
       "      <th>3</th>\n",
       "      <td>56</td>\n",
       "      <td>1</td>\n",
       "      <td>1</td>\n",
       "      <td>120</td>\n",
       "      <td>236</td>\n",
       "      <td>0</td>\n",
       "      <td>1</td>\n",
       "      <td>178</td>\n",
       "      <td>0</td>\n",
       "      <td>0.8</td>\n",
       "      <td>2</td>\n",
       "      <td>0</td>\n",
       "      <td>2</td>\n",
       "      <td>1</td>\n",
       "    </tr>\n",
       "    <tr>\n",
       "      <th>4</th>\n",
       "      <td>57</td>\n",
       "      <td>0</td>\n",
       "      <td>0</td>\n",
       "      <td>120</td>\n",
       "      <td>354</td>\n",
       "      <td>0</td>\n",
       "      <td>1</td>\n",
       "      <td>163</td>\n",
       "      <td>1</td>\n",
       "      <td>0.6</td>\n",
       "      <td>2</td>\n",
       "      <td>0</td>\n",
       "      <td>2</td>\n",
       "      <td>1</td>\n",
       "    </tr>\n",
       "  </tbody>\n",
       "</table>\n",
       "</div>"
      ],
      "text/plain": [
       "   age  sex  cp  trestbps  chol  fbs  restecg  thalach  exang  oldpeak  slope  \\\n",
       "0   63    1   3       145   233    1        0      150      0      2.3      0   \n",
       "1   37    1   2       130   250    0        1      187      0      3.5      0   \n",
       "2   41    0   1       130   204    0        0      172      0      1.4      2   \n",
       "3   56    1   1       120   236    0        1      178      0      0.8      2   \n",
       "4   57    0   0       120   354    0        1      163      1      0.6      2   \n",
       "\n",
       "   ca  thal  target  \n",
       "0   0     1       1  \n",
       "1   0     2       1  \n",
       "2   0     2       1  \n",
       "3   0     2       1  \n",
       "4   0     2       1  "
      ]
     },
     "execution_count": 16,
     "metadata": {},
     "output_type": "execute_result"
    }
   ],
   "source": [
    "df.head()"
   ]
  },
  {
   "cell_type": "code",
   "execution_count": 17,
   "metadata": {},
   "outputs": [
    {
     "data": {
      "text/html": [
       "<div>\n",
       "<style scoped>\n",
       "    .dataframe tbody tr th:only-of-type {\n",
       "        vertical-align: middle;\n",
       "    }\n",
       "\n",
       "    .dataframe tbody tr th {\n",
       "        vertical-align: top;\n",
       "    }\n",
       "\n",
       "    .dataframe thead th {\n",
       "        text-align: right;\n",
       "    }\n",
       "</style>\n",
       "<table border=\"1\" class=\"dataframe\">\n",
       "  <thead>\n",
       "    <tr style=\"text-align: right;\">\n",
       "      <th></th>\n",
       "      <th>age</th>\n",
       "      <th>sex</th>\n",
       "      <th>cp</th>\n",
       "      <th>trestbps</th>\n",
       "      <th>chol</th>\n",
       "      <th>fbs</th>\n",
       "      <th>restecg</th>\n",
       "      <th>thalach</th>\n",
       "      <th>exang</th>\n",
       "      <th>oldpeak</th>\n",
       "      <th>slope</th>\n",
       "      <th>ca</th>\n",
       "      <th>thal</th>\n",
       "    </tr>\n",
       "  </thead>\n",
       "  <tbody>\n",
       "    <tr>\n",
       "      <th>0</th>\n",
       "      <td>63</td>\n",
       "      <td>1</td>\n",
       "      <td>3</td>\n",
       "      <td>145</td>\n",
       "      <td>233</td>\n",
       "      <td>1</td>\n",
       "      <td>0</td>\n",
       "      <td>150</td>\n",
       "      <td>0</td>\n",
       "      <td>2.3</td>\n",
       "      <td>0</td>\n",
       "      <td>0</td>\n",
       "      <td>1</td>\n",
       "    </tr>\n",
       "    <tr>\n",
       "      <th>1</th>\n",
       "      <td>37</td>\n",
       "      <td>1</td>\n",
       "      <td>2</td>\n",
       "      <td>130</td>\n",
       "      <td>250</td>\n",
       "      <td>0</td>\n",
       "      <td>1</td>\n",
       "      <td>187</td>\n",
       "      <td>0</td>\n",
       "      <td>3.5</td>\n",
       "      <td>0</td>\n",
       "      <td>0</td>\n",
       "      <td>2</td>\n",
       "    </tr>\n",
       "    <tr>\n",
       "      <th>2</th>\n",
       "      <td>41</td>\n",
       "      <td>0</td>\n",
       "      <td>1</td>\n",
       "      <td>130</td>\n",
       "      <td>204</td>\n",
       "      <td>0</td>\n",
       "      <td>0</td>\n",
       "      <td>172</td>\n",
       "      <td>0</td>\n",
       "      <td>1.4</td>\n",
       "      <td>2</td>\n",
       "      <td>0</td>\n",
       "      <td>2</td>\n",
       "    </tr>\n",
       "    <tr>\n",
       "      <th>3</th>\n",
       "      <td>56</td>\n",
       "      <td>1</td>\n",
       "      <td>1</td>\n",
       "      <td>120</td>\n",
       "      <td>236</td>\n",
       "      <td>0</td>\n",
       "      <td>1</td>\n",
       "      <td>178</td>\n",
       "      <td>0</td>\n",
       "      <td>0.8</td>\n",
       "      <td>2</td>\n",
       "      <td>0</td>\n",
       "      <td>2</td>\n",
       "    </tr>\n",
       "    <tr>\n",
       "      <th>4</th>\n",
       "      <td>57</td>\n",
       "      <td>0</td>\n",
       "      <td>0</td>\n",
       "      <td>120</td>\n",
       "      <td>354</td>\n",
       "      <td>0</td>\n",
       "      <td>1</td>\n",
       "      <td>163</td>\n",
       "      <td>1</td>\n",
       "      <td>0.6</td>\n",
       "      <td>2</td>\n",
       "      <td>0</td>\n",
       "      <td>2</td>\n",
       "    </tr>\n",
       "  </tbody>\n",
       "</table>\n",
       "</div>"
      ],
      "text/plain": [
       "   age  sex  cp  trestbps  chol  fbs  restecg  thalach  exang  oldpeak  slope  \\\n",
       "0   63    1   3       145   233    1        0      150      0      2.3      0   \n",
       "1   37    1   2       130   250    0        1      187      0      3.5      0   \n",
       "2   41    0   1       130   204    0        0      172      0      1.4      2   \n",
       "3   56    1   1       120   236    0        1      178      0      0.8      2   \n",
       "4   57    0   0       120   354    0        1      163      1      0.6      2   \n",
       "\n",
       "   ca  thal  \n",
       "0   0     1  \n",
       "1   0     2  \n",
       "2   0     2  \n",
       "3   0     2  \n",
       "4   0     2  "
      ]
     },
     "execution_count": 17,
     "metadata": {},
     "output_type": "execute_result"
    }
   ],
   "source": [
    "# Split into features and labels\n",
    "X = df.drop('target', axis=1)\n",
    "y = df['target']\n",
    "X.head()"
   ]
  },
  {
   "cell_type": "code",
   "execution_count": 18,
   "metadata": {},
   "outputs": [
    {
     "data": {
      "text/plain": [
       "(0      1\n",
       " 1      1\n",
       " 2      1\n",
       " 3      1\n",
       " 4      1\n",
       "       ..\n",
       " 298    0\n",
       " 299    0\n",
       " 300    0\n",
       " 301    0\n",
       " 302    0\n",
       " Name: target, Length: 303, dtype: int64,\n",
       " 303,\n",
       " 303)"
      ]
     },
     "execution_count": 18,
     "metadata": {},
     "output_type": "execute_result"
    }
   ],
   "source": [
    "y, len(X), len(y)"
   ]
  },
  {
   "cell_type": "code",
   "execution_count": 19,
   "metadata": {},
   "outputs": [
    {
     "data": {
      "text/plain": [
       "(242, 61, 242, 61)"
      ]
     },
     "execution_count": 19,
     "metadata": {},
     "output_type": "execute_result"
    }
   ],
   "source": [
    "# Split into training and test sets\n",
    "X_train, X_test, y_train, y_test = train_test_split(X, y, test_size=0.2)\n",
    "len(X_train), len(X_test), len(y_train), len(y_test)"
   ]
  },
  {
   "cell_type": "code",
   "execution_count": 20,
   "metadata": {},
   "outputs": [],
   "source": [
    "# Build model/s\n",
    "models = {'Logistic Regression': LogisticRegression(),\n",
    "          'KNN Classifier': KNeighborsClassifier(),\n",
    "          'Random Forest Classifier': RandomForestClassifier()}"
   ]
  },
  {
   "cell_type": "code",
   "execution_count": 21,
   "metadata": {},
   "outputs": [],
   "source": [
    "def fit_and_score(models, X_train, X_test, y_train, y_test):\n",
    "    '''\n",
    "    Fits and evaluates machine learning models.\n",
    "    \n",
    "    Parameters\n",
    "    ----------\n",
    "    models (dict) - models to fit and score\n",
    "    X_train - features training set\n",
    "    y_train - labels training set\n",
    "    X_test - features test set\n",
    "    y_test - labels test set\n",
    "    \n",
    "    Returns\n",
    "    -------\n",
    "    model_scores - dictionary containing the models' scores\n",
    "    '''\n",
    "    np.random.seed(42)\n",
    "    model_scores = {}\n",
    "    for model_name, model in models.items():\n",
    "        model.fit(X_train, y_train)\n",
    "        model_scores[model_name] = model.score(X_test, y_test)\n",
    "        \n",
    "    return model_scores"
   ]
  },
  {
   "cell_type": "code",
   "execution_count": 43,
   "metadata": {},
   "outputs": [
    {
     "name": "stderr",
     "output_type": "stream",
     "text": [
      "C:\\Users\\Sofia\\OneDrive - University of the Philippines\\Sofia\\Data Science\\Projects\\env\\lib\\site-packages\\sklearn\\linear_model\\_logistic.py:762: ConvergenceWarning: lbfgs failed to converge (status=1):\n",
      "STOP: TOTAL NO. of ITERATIONS REACHED LIMIT.\n",
      "\n",
      "Increase the number of iterations (max_iter) or scale the data as shown in:\n",
      "    https://scikit-learn.org/stable/modules/preprocessing.html\n",
      "Please also refer to the documentation for alternative solver options:\n",
      "    https://scikit-learn.org/stable/modules/linear_model.html#logistic-regression\n",
      "  n_iter_i = _check_optimize_result(\n"
     ]
    },
    {
     "data": {
      "text/plain": [
       "{'Logistic Regression': 0.8688524590163934,\n",
       " 'KNN Classifier': 0.6557377049180327,\n",
       " 'Random Forest Classifier': 0.8852459016393442}"
      ]
     },
     "execution_count": 43,
     "metadata": {},
     "output_type": "execute_result"
    }
   ],
   "source": [
    "model_scores = fit_and_score(models, X_train, X_test, y_train, y_test)\n",
    "model_scores"
   ]
  },
  {
   "cell_type": "markdown",
   "metadata": {},
   "source": [
    "### Model Comparison"
   ]
  },
  {
   "cell_type": "code",
   "execution_count": 23,
   "metadata": {},
   "outputs": [
    {
     "data": {
      "image/png": "[encoded data removed]",
      "text/plain": [
       "<Figure size 432x288 with 1 Axes>"
      ]
     },
     "metadata": {
      "needs_background": "light"
     },
     "output_type": "display_data"
    }
   ],
   "source": [
    "model_compare = pd.DataFrame(model_scores, index=['accuracy'])\n",
    "model_compare.T.plot.bar();"
   ]
  },
  {
   "cell_type": "markdown",
   "metadata": {},
   "source": [
    "### Hyperparameter Tuning"
   ]
  },
  {
   "cell_type": "markdown",
   "metadata": {},
   "source": [
    "**Tuning K-Nearest Neighbors Classifier**"
   ]
  },
  {
   "cell_type": "code",
   "execution_count": 24,
   "metadata": {},
   "outputs": [
    {
     "data": {
      "text/plain": [
       "[0.5081967213114754,\n",
       " 0.47540983606557374,\n",
       " 0.5901639344262295,\n",
       " 0.6229508196721312,\n",
       " 0.6557377049180327,\n",
       " 0.6721311475409836,\n",
       " 0.6721311475409836,\n",
       " 0.6721311475409836,\n",
       " 0.6721311475409836,\n",
       " 0.6557377049180327,\n",
       " 0.639344262295082,\n",
       " 0.639344262295082,\n",
       " 0.639344262295082,\n",
       " 0.6557377049180327,\n",
       " 0.6065573770491803,\n",
       " 0.6065573770491803,\n",
       " 0.5573770491803278,\n",
       " 0.6065573770491803,\n",
       " 0.6229508196721312,\n",
       " 0.6229508196721312]"
      ]
     },
     "execution_count": 24,
     "metadata": {},
     "output_type": "execute_result"
    }
   ],
   "source": [
    "train_scores = []\n",
    "test_scores = []\n",
    "\n",
    "# List of different values for n neighbors\n",
    "neighbors = range(1,21)\n",
    "\n",
    "# Setup KNN instance\n",
    "knn = KNeighborsClassifier()\n",
    "\n",
    "# Loop through different n_neighbors\n",
    "for i in neighbors:\n",
    "    knn.set_params(n_neighbors=i)\n",
    "    knn.fit(X_train, y_train)\n",
    "    train_scores.append(knn.score(X_train, y_train))\n",
    "    test_scores.append(knn.score(X_test, y_test))\n",
    "    \n",
    "test_scores"
   ]
  },
  {
   "cell_type": "code",
   "execution_count": 25,
   "metadata": {},
   "outputs": [
    {
     "name": "stdout",
     "output_type": "stream",
     "text": [
      "Max KNN Score on the test data: 67%\n"
     ]
    },
    {
     "data": {
      "image/png": "[encoded data removed]",
      "text/plain": [
       "<Figure size 432x288 with 1 Axes>"
      ]
     },
     "metadata": {
      "needs_background": "light"
     },
     "output_type": "display_data"
    }
   ],
   "source": [
    "# Visualize test scores\n",
    "plt.plot(neighbors, train_scores, label='Train Scores')\n",
    "plt.plot(neighbors, test_scores, label='Test Scores')\n",
    "plt.xlabel('No. of neighbors')\n",
    "plt.ylabel('Accuracy')\n",
    "plt.xticks(np.arange(1,21))\n",
    "print(f'Max KNN Score on the test data: {max(test_scores)*100:.2g}%')"
   ]
  },
  {
   "cell_type": "markdown",
   "metadata": {},
   "source": [
    "**Tune LogisticRegression & RandomForestClassifier With RandomizedSearchCV**"
   ]
  },
  {
   "cell_type": "code",
   "execution_count": 44,
   "metadata": {},
   "outputs": [],
   "source": [
    "# Hyperparameter distribution for Logistic Regression\n",
    "log_reg_dist = {'C': [1], \n",
    "                'solver': ['lbfgs', 'liblinear'], \n",
    "                'max_iter': [100, 1000]}"
   ]
  },
  {
   "cell_type": "code",
   "execution_count": 45,
   "metadata": {},
   "outputs": [
    {
     "name": "stderr",
     "output_type": "stream",
     "text": [
      "C:\\Users\\Sofia\\OneDrive - University of the Philippines\\Sofia\\Data Science\\Projects\\env\\lib\\site-packages\\sklearn\\model_selection\\_search.py:278: UserWarning: The total space of parameters 4 is smaller than n_iter=20. Running 4 iterations. For exhaustive searches, use GridSearchCV.\n",
      "  warnings.warn(\n",
      "[Parallel(n_jobs=1)]: Using backend SequentialBackend with 1 concurrent workers.\n",
      "C:\\Users\\Sofia\\OneDrive - University of the Philippines\\Sofia\\Data Science\\Projects\\env\\lib\\site-packages\\sklearn\\linear_model\\_logistic.py:762: ConvergenceWarning: lbfgs failed to converge (status=1):\n",
      "STOP: TOTAL NO. of ITERATIONS REACHED LIMIT.\n",
      "\n",
      "Increase the number of iterations (max_iter) or scale the data as shown in:\n",
      "    https://scikit-learn.org/stable/modules/preprocessing.html\n",
      "Please also refer to the documentation for alternative solver options:\n",
      "    https://scikit-learn.org/stable/modules/linear_model.html#logistic-regression\n",
      "  n_iter_i = _check_optimize_result(\n",
      "[Parallel(n_jobs=1)]: Done   1 out of   1 | elapsed:    0.0s remaining:    0.0s\n",
      "C:\\Users\\Sofia\\OneDrive - University of the Philippines\\Sofia\\Data Science\\Projects\\env\\lib\\site-packages\\sklearn\\linear_model\\_logistic.py:762: ConvergenceWarning: lbfgs failed to converge (status=1):\n",
      "STOP: TOTAL NO. of ITERATIONS REACHED LIMIT.\n",
      "\n",
      "Increase the number of iterations (max_iter) or scale the data as shown in:\n",
      "    https://scikit-learn.org/stable/modules/preprocessing.html\n",
      "Please also refer to the documentation for alternative solver options:\n",
      "    https://scikit-learn.org/stable/modules/linear_model.html#logistic-regression\n",
      "  n_iter_i = _check_optimize_result(\n"
     ]
    },
    {
     "name": "stdout",
     "output_type": "stream",
     "text": [
      "Fitting 5 folds for each of 4 candidates, totalling 20 fits\n",
      "[CV] solver=lbfgs, max_iter=100, C=1 .................................\n",
      "[CV] .................. solver=lbfgs, max_iter=100, C=1, total=   0.1s\n",
      "[CV] solver=lbfgs, max_iter=100, C=1 .................................\n",
      "[CV] .................. solver=lbfgs, max_iter=100, C=1, total=   0.1s\n",
      "[CV] solver=lbfgs, max_iter=100, C=1 .................................\n"
     ]
    },
    {
     "name": "stderr",
     "output_type": "stream",
     "text": [
      "C:\\Users\\Sofia\\OneDrive - University of the Philippines\\Sofia\\Data Science\\Projects\\env\\lib\\site-packages\\sklearn\\linear_model\\_logistic.py:762: ConvergenceWarning: lbfgs failed to converge (status=1):\n",
      "STOP: TOTAL NO. of ITERATIONS REACHED LIMIT.\n",
      "\n",
      "Increase the number of iterations (max_iter) or scale the data as shown in:\n",
      "    https://scikit-learn.org/stable/modules/preprocessing.html\n",
      "Please also refer to the documentation for alternative solver options:\n",
      "    https://scikit-learn.org/stable/modules/linear_model.html#logistic-regression\n",
      "  n_iter_i = _check_optimize_result(\n",
      "C:\\Users\\Sofia\\OneDrive - University of the Philippines\\Sofia\\Data Science\\Projects\\env\\lib\\site-packages\\sklearn\\linear_model\\_logistic.py:762: ConvergenceWarning: lbfgs failed to converge (status=1):\n",
      "STOP: TOTAL NO. of ITERATIONS REACHED LIMIT.\n",
      "\n",
      "Increase the number of iterations (max_iter) or scale the data as shown in:\n",
      "    https://scikit-learn.org/stable/modules/preprocessing.html\n",
      "Please also refer to the documentation for alternative solver options:\n",
      "    https://scikit-learn.org/stable/modules/linear_model.html#logistic-regression\n",
      "  n_iter_i = _check_optimize_result(\n",
      "C:\\Users\\Sofia\\OneDrive - University of the Philippines\\Sofia\\Data Science\\Projects\\env\\lib\\site-packages\\sklearn\\linear_model\\_logistic.py:762: ConvergenceWarning: lbfgs failed to converge (status=1):\n",
      "STOP: TOTAL NO. of ITERATIONS REACHED LIMIT.\n",
      "\n",
      "Increase the number of iterations (max_iter) or scale the data as shown in:\n",
      "    https://scikit-learn.org/stable/modules/preprocessing.html\n",
      "Please also refer to the documentation for alternative solver options:\n",
      "    https://scikit-learn.org/stable/modules/linear_model.html#logistic-regression\n",
      "  n_iter_i = _check_optimize_result(\n"
     ]
    },
    {
     "name": "stdout",
     "output_type": "stream",
     "text": [
      "[CV] .................. solver=lbfgs, max_iter=100, C=1, total=   0.1s\n",
      "[CV] solver=lbfgs, max_iter=100, C=1 .................................\n",
      "[CV] .................. solver=lbfgs, max_iter=100, C=1, total=   0.1s\n",
      "[CV] solver=lbfgs, max_iter=100, C=1 .................................\n",
      "[CV] .................. solver=lbfgs, max_iter=100, C=1, total=   0.1s\n",
      "[CV] solver=liblinear, max_iter=100, C=1 .............................\n",
      "[CV] .............. solver=liblinear, max_iter=100, C=1, total=   0.0s\n",
      "[CV] solver=liblinear, max_iter=100, C=1 .............................\n",
      "[CV] .............. solver=liblinear, max_iter=100, C=1, total=   0.0s\n",
      "[CV] solver=liblinear, max_iter=100, C=1 .............................\n",
      "[CV] .............. solver=liblinear, max_iter=100, C=1, total=   0.0s\n",
      "[CV] solver=liblinear, max_iter=100, C=1 .............................\n",
      "[CV] .............. solver=liblinear, max_iter=100, C=1, total=   0.0s\n",
      "[CV] solver=liblinear, max_iter=100, C=1 .............................\n",
      "[CV] .............. solver=liblinear, max_iter=100, C=1, total=   0.0s\n",
      "[CV] solver=lbfgs, max_iter=1000, C=1 ................................\n",
      "[CV] ................. solver=lbfgs, max_iter=1000, C=1, total=   0.5s\n",
      "[CV] solver=lbfgs, max_iter=1000, C=1 ................................\n",
      "[CV] ................. solver=lbfgs, max_iter=1000, C=1, total=   0.5s\n",
      "[CV] solver=lbfgs, max_iter=1000, C=1 ................................\n",
      "[CV] ................. solver=lbfgs, max_iter=1000, C=1, total=   0.3s\n",
      "[CV] solver=lbfgs, max_iter=1000, C=1 ................................\n",
      "[CV] ................. solver=lbfgs, max_iter=1000, C=1, total=   0.6s\n",
      "[CV] solver=lbfgs, max_iter=1000, C=1 ................................\n",
      "[CV] ................. solver=lbfgs, max_iter=1000, C=1, total=   0.4s\n",
      "[CV] solver=liblinear, max_iter=1000, C=1 ............................\n",
      "[CV] ............. solver=liblinear, max_iter=1000, C=1, total=   0.0s\n",
      "[CV] solver=liblinear, max_iter=1000, C=1 ............................\n",
      "[CV] ............. solver=liblinear, max_iter=1000, C=1, total=   0.0s\n",
      "[CV] solver=liblinear, max_iter=1000, C=1 ............................\n",
      "[CV] ............. solver=liblinear, max_iter=1000, C=1, total=   0.0s\n",
      "[CV] solver=liblinear, max_iter=1000, C=1 ............................\n",
      "[CV] ............. solver=liblinear, max_iter=1000, C=1, total=   0.0s\n",
      "[CV] solver=liblinear, max_iter=1000, C=1 ............................\n",
      "[CV] ............. solver=liblinear, max_iter=1000, C=1, total=   0.0s\n"
     ]
    },
    {
     "name": "stderr",
     "output_type": "stream",
     "text": [
      "[Parallel(n_jobs=1)]: Done  20 out of  20 | elapsed:    2.8s finished\n"
     ]
    },
    {
     "data": {
      "text/plain": [
       "RandomizedSearchCV(cv=5, estimator=LogisticRegression(), n_iter=20,\n",
       "                   param_distributions={'C': [1], 'max_iter': [100, 1000],\n",
       "                                        'solver': ['lbfgs', 'liblinear']},\n",
       "                   verbose=2)"
      ]
     },
     "execution_count": 45,
     "metadata": {},
     "output_type": "execute_result"
    }
   ],
   "source": [
    "# Tune Logistic Regression\n",
    "np.random.seed(42)\n",
    "\n",
    "rs_log_reg = RandomizedSearchCV(LogisticRegression(), log_reg_dist,\n",
    "                                n_iter=20, cv=5, verbose=2)\n",
    "\n",
    "rs_log_reg.fit(X_train, y_train)"
   ]
  },
  {
   "cell_type": "code",
   "execution_count": 46,
   "metadata": {},
   "outputs": [
    {
     "data": {
      "text/plain": [
       "0.8852459016393442"
      ]
     },
     "execution_count": 46,
     "metadata": {},
     "output_type": "execute_result"
    }
   ],
   "source": [
    "rs_log_reg.score(X_test, y_test)"
   ]
  },
  {
   "cell_type": "code",
   "execution_count": 47,
   "metadata": {
    "scrolled": true
   },
   "outputs": [
    {
     "data": {
      "text/plain": [
       "{'solver': 'liblinear', 'max_iter': 100, 'C': 1}"
      ]
     },
     "execution_count": 47,
     "metadata": {},
     "output_type": "execute_result"
    }
   ],
   "source": [
    "rs_log_reg.best_params_"
   ]
  },
  {
   "cell_type": "code",
   "execution_count": 48,
   "metadata": {},
   "outputs": [
    {
     "data": {
      "text/plain": [
       "{'Logistic Regression': 0.8688524590163934,\n",
       " 'KNN Classifier': 0.6557377049180327,\n",
       " 'Random Forest Classifier': 0.8852459016393442}"
      ]
     },
     "execution_count": 48,
     "metadata": {},
     "output_type": "execute_result"
    }
   ],
   "source": [
    "model_scores"
   ]
  },
  {
   "cell_type": "code",
   "execution_count": 49,
   "metadata": {},
   "outputs": [],
   "source": [
    "# Hyperparameter distribution for RandomForestClassifier\n",
    "rf_grid = {'n_estimators': np.arange(100, 1000, 100),\n",
    "           'max_depth': [None, 3, 5, 10], \n",
    "           'min_samples_split': np.arange(2, 20, 2),\n",
    "           'min_samples_leaf': np.arange(1, 20, 2)}"
   ]
  },
  {
   "cell_type": "code",
   "execution_count": 50,
   "metadata": {},
   "outputs": [
    {
     "name": "stdout",
     "output_type": "stream",
     "text": [
      "Fitting 5 folds for each of 5 candidates, totalling 25 fits\n",
      "[CV] n_estimators=600, min_samples_split=6, min_samples_leaf=11, max_depth=3 \n"
     ]
    },
    {
     "name": "stderr",
     "output_type": "stream",
     "text": [
      "[Parallel(n_jobs=1)]: Using backend SequentialBackend with 1 concurrent workers.\n"
     ]
    },
    {
     "name": "stdout",
     "output_type": "stream",
     "text": [
      "[CV]  n_estimators=600, min_samples_split=6, min_samples_leaf=11, max_depth=3, total=   2.1s\n",
      "[CV] n_estimators=600, min_samples_split=6, min_samples_leaf=11, max_depth=3 \n"
     ]
    },
    {
     "name": "stderr",
     "output_type": "stream",
     "text": [
      "[Parallel(n_jobs=1)]: Done   1 out of   1 | elapsed:    2.0s remaining:    0.0s\n"
     ]
    },
    {
     "name": "stdout",
     "output_type": "stream",
     "text": [
      "[CV]  n_estimators=600, min_samples_split=6, min_samples_leaf=11, max_depth=3, total=   2.1s\n",
      "[CV] n_estimators=600, min_samples_split=6, min_samples_leaf=11, max_depth=3 \n",
      "[CV]  n_estimators=600, min_samples_split=6, min_samples_leaf=11, max_depth=3, total=   2.3s\n",
      "[CV] n_estimators=600, min_samples_split=6, min_samples_leaf=11, max_depth=3 \n",
      "[CV]  n_estimators=600, min_samples_split=6, min_samples_leaf=11, max_depth=3, total=   2.3s\n",
      "[CV] n_estimators=600, min_samples_split=6, min_samples_leaf=11, max_depth=3 \n",
      "[CV]  n_estimators=600, min_samples_split=6, min_samples_leaf=11, max_depth=3, total=   2.1s\n",
      "[CV] n_estimators=700, min_samples_split=2, min_samples_leaf=9, max_depth=None \n",
      "[CV]  n_estimators=700, min_samples_split=2, min_samples_leaf=9, max_depth=None, total=   2.6s\n",
      "[CV] n_estimators=700, min_samples_split=2, min_samples_leaf=9, max_depth=None \n",
      "[CV]  n_estimators=700, min_samples_split=2, min_samples_leaf=9, max_depth=None, total=   2.5s\n",
      "[CV] n_estimators=700, min_samples_split=2, min_samples_leaf=9, max_depth=None \n",
      "[CV]  n_estimators=700, min_samples_split=2, min_samples_leaf=9, max_depth=None, total=   2.5s\n",
      "[CV] n_estimators=700, min_samples_split=2, min_samples_leaf=9, max_depth=None \n",
      "[CV]  n_estimators=700, min_samples_split=2, min_samples_leaf=9, max_depth=None, total=   2.5s\n",
      "[CV] n_estimators=700, min_samples_split=2, min_samples_leaf=9, max_depth=None \n",
      "[CV]  n_estimators=700, min_samples_split=2, min_samples_leaf=9, max_depth=None, total=   2.6s\n",
      "[CV] n_estimators=700, min_samples_split=6, min_samples_leaf=17, max_depth=3 \n",
      "[CV]  n_estimators=700, min_samples_split=6, min_samples_leaf=17, max_depth=3, total=   2.7s\n",
      "[CV] n_estimators=700, min_samples_split=6, min_samples_leaf=17, max_depth=3 \n",
      "[CV]  n_estimators=700, min_samples_split=6, min_samples_leaf=17, max_depth=3, total=   2.7s\n",
      "[CV] n_estimators=700, min_samples_split=6, min_samples_leaf=17, max_depth=3 \n",
      "[CV]  n_estimators=700, min_samples_split=6, min_samples_leaf=17, max_depth=3, total=   2.4s\n",
      "[CV] n_estimators=700, min_samples_split=6, min_samples_leaf=17, max_depth=3 \n",
      "[CV]  n_estimators=700, min_samples_split=6, min_samples_leaf=17, max_depth=3, total=   2.6s\n",
      "[CV] n_estimators=700, min_samples_split=6, min_samples_leaf=17, max_depth=3 \n",
      "[CV]  n_estimators=700, min_samples_split=6, min_samples_leaf=17, max_depth=3, total=   2.7s\n",
      "[CV] n_estimators=300, min_samples_split=8, min_samples_leaf=13, max_depth=5 \n",
      "[CV]  n_estimators=300, min_samples_split=8, min_samples_leaf=13, max_depth=5, total=   1.3s\n",
      "[CV] n_estimators=300, min_samples_split=8, min_samples_leaf=13, max_depth=5 \n",
      "[CV]  n_estimators=300, min_samples_split=8, min_samples_leaf=13, max_depth=5, total=   1.1s\n",
      "[CV] n_estimators=300, min_samples_split=8, min_samples_leaf=13, max_depth=5 \n",
      "[CV]  n_estimators=300, min_samples_split=8, min_samples_leaf=13, max_depth=5, total=   1.1s\n",
      "[CV] n_estimators=300, min_samples_split=8, min_samples_leaf=13, max_depth=5 \n",
      "[CV]  n_estimators=300, min_samples_split=8, min_samples_leaf=13, max_depth=5, total=   1.1s\n",
      "[CV] n_estimators=300, min_samples_split=8, min_samples_leaf=13, max_depth=5 \n",
      "[CV]  n_estimators=300, min_samples_split=8, min_samples_leaf=13, max_depth=5, total=   1.3s\n",
      "[CV] n_estimators=400, min_samples_split=4, min_samples_leaf=19, max_depth=10 \n",
      "[CV]  n_estimators=400, min_samples_split=4, min_samples_leaf=19, max_depth=10, total=   1.5s\n",
      "[CV] n_estimators=400, min_samples_split=4, min_samples_leaf=19, max_depth=10 \n",
      "[CV]  n_estimators=400, min_samples_split=4, min_samples_leaf=19, max_depth=10, total=   1.5s\n",
      "[CV] n_estimators=400, min_samples_split=4, min_samples_leaf=19, max_depth=10 \n",
      "[CV]  n_estimators=400, min_samples_split=4, min_samples_leaf=19, max_depth=10, total=   1.8s\n",
      "[CV] n_estimators=400, min_samples_split=4, min_samples_leaf=19, max_depth=10 \n",
      "[CV]  n_estimators=400, min_samples_split=4, min_samples_leaf=19, max_depth=10, total=   1.6s\n",
      "[CV] n_estimators=400, min_samples_split=4, min_samples_leaf=19, max_depth=10 \n",
      "[CV]  n_estimators=400, min_samples_split=4, min_samples_leaf=19, max_depth=10, total=   1.7s\n"
     ]
    },
    {
     "name": "stderr",
     "output_type": "stream",
     "text": [
      "[Parallel(n_jobs=1)]: Done  25 out of  25 | elapsed:   50.8s finished\n"
     ]
    },
    {
     "data": {
      "text/plain": [
       "RandomizedSearchCV(cv=5, estimator=RandomForestClassifier(), n_iter=5,\n",
       "                   param_distributions={'max_depth': [None, 3, 5, 10],\n",
       "                                        'min_samples_leaf': array([ 1,  3,  5,  7,  9, 11, 13, 15, 17, 19]),\n",
       "                                        'min_samples_split': array([ 2,  4,  6,  8, 10, 12, 14, 16, 18]),\n",
       "                                        'n_estimators': array([100, 200, 300, 400, 500, 600, 700, 800, 900])},\n",
       "                   verbose=2)"
      ]
     },
     "execution_count": 50,
     "metadata": {},
     "output_type": "execute_result"
    }
   ],
   "source": [
    "# Tune RandomForestClassifier\n",
    "\n",
    "rs_rf = RandomizedSearchCV(RandomForestClassifier(), rf_grid,\n",
    "                                n_iter=5, cv=5, verbose=2)\n",
    "\n",
    "rs_rf.fit(X_train, y_train)"
   ]
  },
  {
   "cell_type": "code",
   "execution_count": 51,
   "metadata": {},
   "outputs": [
    {
     "data": {
      "text/plain": [
       "0.8688524590163934"
      ]
     },
     "execution_count": 51,
     "metadata": {},
     "output_type": "execute_result"
    }
   ],
   "source": [
    "rs_rf.score(X_test, y_test)"
   ]
  },
  {
   "cell_type": "code",
   "execution_count": 52,
   "metadata": {},
   "outputs": [
    {
     "data": {
      "text/plain": [
       "{'n_estimators': 700,\n",
       " 'min_samples_split': 2,\n",
       " 'min_samples_leaf': 9,\n",
       " 'max_depth': None}"
      ]
     },
     "execution_count": 52,
     "metadata": {},
     "output_type": "execute_result"
    }
   ],
   "source": [
    "rs_rf.best_params_"
   ]
  },
  {
   "cell_type": "markdown",
   "metadata": {},
   "source": [
    "## Hyperparameter Tuning using GridSearchCV"
   ]
  },
  {
   "cell_type": "code",
   "execution_count": 53,
   "metadata": {},
   "outputs": [
    {
     "name": "stdout",
     "output_type": "stream",
     "text": [
      "Fitting 5 folds for each of 18 candidates, totalling 90 fits\n",
      "[CV] min_samples_leaf=1, min_samples_split=2, n_estimators=100 .......\n"
     ]
    },
    {
     "name": "stderr",
     "output_type": "stream",
     "text": [
      "[Parallel(n_jobs=1)]: Using backend SequentialBackend with 1 concurrent workers.\n"
     ]
    },
    {
     "name": "stdout",
     "output_type": "stream",
     "text": [
      "[CV]  min_samples_leaf=1, min_samples_split=2, n_estimators=100, total=   0.5s\n",
      "[CV] min_samples_leaf=1, min_samples_split=2, n_estimators=100 .......\n"
     ]
    },
    {
     "name": "stderr",
     "output_type": "stream",
     "text": [
      "[Parallel(n_jobs=1)]: Done   1 out of   1 | elapsed:    0.4s remaining:    0.0s\n"
     ]
    },
    {
     "name": "stdout",
     "output_type": "stream",
     "text": [
      "[CV]  min_samples_leaf=1, min_samples_split=2, n_estimators=100, total=   0.4s\n",
      "[CV] min_samples_leaf=1, min_samples_split=2, n_estimators=100 .......\n",
      "[CV]  min_samples_leaf=1, min_samples_split=2, n_estimators=100, total=   0.4s\n",
      "[CV] min_samples_leaf=1, min_samples_split=2, n_estimators=100 .......\n",
      "[CV]  min_samples_leaf=1, min_samples_split=2, n_estimators=100, total=   0.4s\n",
      "[CV] min_samples_leaf=1, min_samples_split=2, n_estimators=100 .......\n",
      "[CV]  min_samples_leaf=1, min_samples_split=2, n_estimators=100, total=   0.4s\n",
      "[CV] min_samples_leaf=1, min_samples_split=2, n_estimators=700 .......\n",
      "[CV]  min_samples_leaf=1, min_samples_split=2, n_estimators=700, total=   3.1s\n",
      "[CV] min_samples_leaf=1, min_samples_split=2, n_estimators=700 .......\n",
      "[CV]  min_samples_leaf=1, min_samples_split=2, n_estimators=700, total=   2.8s\n",
      "[CV] min_samples_leaf=1, min_samples_split=2, n_estimators=700 .......\n",
      "[CV]  min_samples_leaf=1, min_samples_split=2, n_estimators=700, total=   2.8s\n",
      "[CV] min_samples_leaf=1, min_samples_split=2, n_estimators=700 .......\n",
      "[CV]  min_samples_leaf=1, min_samples_split=2, n_estimators=700, total=   2.9s\n",
      "[CV] min_samples_leaf=1, min_samples_split=2, n_estimators=700 .......\n",
      "[CV]  min_samples_leaf=1, min_samples_split=2, n_estimators=700, total=   2.8s\n",
      "[CV] min_samples_leaf=1, min_samples_split=2, n_estimators=1200 ......\n",
      "[CV]  min_samples_leaf=1, min_samples_split=2, n_estimators=1200, total=   5.1s\n",
      "[CV] min_samples_leaf=1, min_samples_split=2, n_estimators=1200 ......\n",
      "[CV]  min_samples_leaf=1, min_samples_split=2, n_estimators=1200, total=   4.9s\n",
      "[CV] min_samples_leaf=1, min_samples_split=2, n_estimators=1200 ......\n",
      "[CV]  min_samples_leaf=1, min_samples_split=2, n_estimators=1200, total=   4.8s\n",
      "[CV] min_samples_leaf=1, min_samples_split=2, n_estimators=1200 ......\n",
      "[CV]  min_samples_leaf=1, min_samples_split=2, n_estimators=1200, total=   5.1s\n",
      "[CV] min_samples_leaf=1, min_samples_split=2, n_estimators=1200 ......\n",
      "[CV]  min_samples_leaf=1, min_samples_split=2, n_estimators=1200, total=   5.3s\n",
      "[CV] min_samples_leaf=1, min_samples_split=3, n_estimators=100 .......\n",
      "[CV]  min_samples_leaf=1, min_samples_split=3, n_estimators=100, total=   0.6s\n",
      "[CV] min_samples_leaf=1, min_samples_split=3, n_estimators=100 .......\n",
      "[CV]  min_samples_leaf=1, min_samples_split=3, n_estimators=100, total=   0.5s\n",
      "[CV] min_samples_leaf=1, min_samples_split=3, n_estimators=100 .......\n",
      "[CV]  min_samples_leaf=1, min_samples_split=3, n_estimators=100, total=   0.4s\n",
      "[CV] min_samples_leaf=1, min_samples_split=3, n_estimators=100 .......\n",
      "[CV]  min_samples_leaf=1, min_samples_split=3, n_estimators=100, total=   0.4s\n",
      "[CV] min_samples_leaf=1, min_samples_split=3, n_estimators=100 .......\n",
      "[CV]  min_samples_leaf=1, min_samples_split=3, n_estimators=100, total=   0.4s\n",
      "[CV] min_samples_leaf=1, min_samples_split=3, n_estimators=700 .......\n",
      "[CV]  min_samples_leaf=1, min_samples_split=3, n_estimators=700, total=   2.9s\n",
      "[CV] min_samples_leaf=1, min_samples_split=3, n_estimators=700 .......\n",
      "[CV]  min_samples_leaf=1, min_samples_split=3, n_estimators=700, total=   2.7s\n",
      "[CV] min_samples_leaf=1, min_samples_split=3, n_estimators=700 .......\n",
      "[CV]  min_samples_leaf=1, min_samples_split=3, n_estimators=700, total=   2.8s\n",
      "[CV] min_samples_leaf=1, min_samples_split=3, n_estimators=700 .......\n",
      "[CV]  min_samples_leaf=1, min_samples_split=3, n_estimators=700, total=   3.0s\n",
      "[CV] min_samples_leaf=1, min_samples_split=3, n_estimators=700 .......\n",
      "[CV]  min_samples_leaf=1, min_samples_split=3, n_estimators=700, total=   2.7s\n",
      "[CV] min_samples_leaf=1, min_samples_split=3, n_estimators=1200 ......\n",
      "[CV]  min_samples_leaf=1, min_samples_split=3, n_estimators=1200, total=   4.9s\n",
      "[CV] min_samples_leaf=1, min_samples_split=3, n_estimators=1200 ......\n",
      "[CV]  min_samples_leaf=1, min_samples_split=3, n_estimators=1200, total=   4.9s\n",
      "[CV] min_samples_leaf=1, min_samples_split=3, n_estimators=1200 ......\n",
      "[CV]  min_samples_leaf=1, min_samples_split=3, n_estimators=1200, total=   5.0s\n",
      "[CV] min_samples_leaf=1, min_samples_split=3, n_estimators=1200 ......\n",
      "[CV]  min_samples_leaf=1, min_samples_split=3, n_estimators=1200, total=   4.9s\n",
      "[CV] min_samples_leaf=1, min_samples_split=3, n_estimators=1200 ......\n",
      "[CV]  min_samples_leaf=1, min_samples_split=3, n_estimators=1200, total=   4.9s\n",
      "[CV] min_samples_leaf=9, min_samples_split=2, n_estimators=100 .......\n",
      "[CV]  min_samples_leaf=9, min_samples_split=2, n_estimators=100, total=   0.4s\n",
      "[CV] min_samples_leaf=9, min_samples_split=2, n_estimators=100 .......\n",
      "[CV]  min_samples_leaf=9, min_samples_split=2, n_estimators=100, total=   0.4s\n",
      "[CV] min_samples_leaf=9, min_samples_split=2, n_estimators=100 .......\n",
      "[CV]  min_samples_leaf=9, min_samples_split=2, n_estimators=100, total=   0.4s\n",
      "[CV] min_samples_leaf=9, min_samples_split=2, n_estimators=100 .......\n",
      "[CV]  min_samples_leaf=9, min_samples_split=2, n_estimators=100, total=   0.4s\n",
      "[CV] min_samples_leaf=9, min_samples_split=2, n_estimators=100 .......\n",
      "[CV]  min_samples_leaf=9, min_samples_split=2, n_estimators=100, total=   0.4s\n",
      "[CV] min_samples_leaf=9, min_samples_split=2, n_estimators=700 .......\n",
      "[CV]  min_samples_leaf=9, min_samples_split=2, n_estimators=700, total=   2.7s\n",
      "[CV] min_samples_leaf=9, min_samples_split=2, n_estimators=700 .......\n",
      "[CV]  min_samples_leaf=9, min_samples_split=2, n_estimators=700, total=   2.6s\n",
      "[CV] min_samples_leaf=9, min_samples_split=2, n_estimators=700 .......\n",
      "[CV]  min_samples_leaf=9, min_samples_split=2, n_estimators=700, total=   2.7s\n",
      "[CV] min_samples_leaf=9, min_samples_split=2, n_estimators=700 .......\n",
      "[CV]  min_samples_leaf=9, min_samples_split=2, n_estimators=700, total=   2.8s\n",
      "[CV] min_samples_leaf=9, min_samples_split=2, n_estimators=700 .......\n",
      "[CV]  min_samples_leaf=9, min_samples_split=2, n_estimators=700, total=   2.6s\n",
      "[CV] min_samples_leaf=9, min_samples_split=2, n_estimators=1200 ......\n",
      "[CV]  min_samples_leaf=9, min_samples_split=2, n_estimators=1200, total=   4.6s\n",
      "[CV] min_samples_leaf=9, min_samples_split=2, n_estimators=1200 ......\n",
      "[CV]  min_samples_leaf=9, min_samples_split=2, n_estimators=1200, total=   4.5s\n",
      "[CV] min_samples_leaf=9, min_samples_split=2, n_estimators=1200 ......\n",
      "[CV]  min_samples_leaf=9, min_samples_split=2, n_estimators=1200, total=   4.6s\n",
      "[CV] min_samples_leaf=9, min_samples_split=2, n_estimators=1200 ......\n",
      "[CV]  min_samples_leaf=9, min_samples_split=2, n_estimators=1200, total=   4.7s\n",
      "[CV] min_samples_leaf=9, min_samples_split=2, n_estimators=1200 ......\n",
      "[CV]  min_samples_leaf=9, min_samples_split=2, n_estimators=1200, total=   4.5s\n",
      "[CV] min_samples_leaf=9, min_samples_split=3, n_estimators=100 .......\n",
      "[CV]  min_samples_leaf=9, min_samples_split=3, n_estimators=100, total=   0.4s\n",
      "[CV] min_samples_leaf=9, min_samples_split=3, n_estimators=100 .......\n",
      "[CV]  min_samples_leaf=9, min_samples_split=3, n_estimators=100, total=   0.4s\n",
      "[CV] min_samples_leaf=9, min_samples_split=3, n_estimators=100 .......\n",
      "[CV]  min_samples_leaf=9, min_samples_split=3, n_estimators=100, total=   0.4s\n",
      "[CV] min_samples_leaf=9, min_samples_split=3, n_estimators=100 .......\n",
      "[CV]  min_samples_leaf=9, min_samples_split=3, n_estimators=100, total=   0.4s\n",
      "[CV] min_samples_leaf=9, min_samples_split=3, n_estimators=100 .......\n",
      "[CV]  min_samples_leaf=9, min_samples_split=3, n_estimators=100, total=   0.4s\n",
      "[CV] min_samples_leaf=9, min_samples_split=3, n_estimators=700 .......\n",
      "[CV]  min_samples_leaf=9, min_samples_split=3, n_estimators=700, total=   2.8s\n",
      "[CV] min_samples_leaf=9, min_samples_split=3, n_estimators=700 .......\n",
      "[CV]  min_samples_leaf=9, min_samples_split=3, n_estimators=700, total=   2.7s\n",
      "[CV] min_samples_leaf=9, min_samples_split=3, n_estimators=700 .......\n",
      "[CV]  min_samples_leaf=9, min_samples_split=3, n_estimators=700, total=   2.7s\n",
      "[CV] min_samples_leaf=9, min_samples_split=3, n_estimators=700 .......\n",
      "[CV]  min_samples_leaf=9, min_samples_split=3, n_estimators=700, total=   2.7s\n",
      "[CV] min_samples_leaf=9, min_samples_split=3, n_estimators=700 .......\n",
      "[CV]  min_samples_leaf=9, min_samples_split=3, n_estimators=700, total=   2.8s\n",
      "[CV] min_samples_leaf=9, min_samples_split=3, n_estimators=1200 ......\n",
      "[CV]  min_samples_leaf=9, min_samples_split=3, n_estimators=1200, total=   4.9s\n",
      "[CV] min_samples_leaf=9, min_samples_split=3, n_estimators=1200 ......\n"
     ]
    },
    {
     "name": "stdout",
     "output_type": "stream",
     "text": [
      "[CV]  min_samples_leaf=9, min_samples_split=3, n_estimators=1200, total=   4.6s\n",
      "[CV] min_samples_leaf=9, min_samples_split=3, n_estimators=1200 ......\n",
      "[CV]  min_samples_leaf=9, min_samples_split=3, n_estimators=1200, total=   4.8s\n",
      "[CV] min_samples_leaf=9, min_samples_split=3, n_estimators=1200 ......\n",
      "[CV]  min_samples_leaf=9, min_samples_split=3, n_estimators=1200, total=   4.8s\n",
      "[CV] min_samples_leaf=9, min_samples_split=3, n_estimators=1200 ......\n",
      "[CV]  min_samples_leaf=9, min_samples_split=3, n_estimators=1200, total=   4.9s\n",
      "[CV] min_samples_leaf=5, min_samples_split=2, n_estimators=100 .......\n",
      "[CV]  min_samples_leaf=5, min_samples_split=2, n_estimators=100, total=   0.4s\n",
      "[CV] min_samples_leaf=5, min_samples_split=2, n_estimators=100 .......\n",
      "[CV]  min_samples_leaf=5, min_samples_split=2, n_estimators=100, total=   0.4s\n",
      "[CV] min_samples_leaf=5, min_samples_split=2, n_estimators=100 .......\n",
      "[CV]  min_samples_leaf=5, min_samples_split=2, n_estimators=100, total=   0.5s\n",
      "[CV] min_samples_leaf=5, min_samples_split=2, n_estimators=100 .......\n",
      "[CV]  min_samples_leaf=5, min_samples_split=2, n_estimators=100, total=   0.5s\n",
      "[CV] min_samples_leaf=5, min_samples_split=2, n_estimators=100 .......\n",
      "[CV]  min_samples_leaf=5, min_samples_split=2, n_estimators=100, total=   0.4s\n",
      "[CV] min_samples_leaf=5, min_samples_split=2, n_estimators=700 .......\n",
      "[CV]  min_samples_leaf=5, min_samples_split=2, n_estimators=700, total=   3.2s\n",
      "[CV] min_samples_leaf=5, min_samples_split=2, n_estimators=700 .......\n",
      "[CV]  min_samples_leaf=5, min_samples_split=2, n_estimators=700, total=   2.8s\n",
      "[CV] min_samples_leaf=5, min_samples_split=2, n_estimators=700 .......\n",
      "[CV]  min_samples_leaf=5, min_samples_split=2, n_estimators=700, total=   2.7s\n",
      "[CV] min_samples_leaf=5, min_samples_split=2, n_estimators=700 .......\n",
      "[CV]  min_samples_leaf=5, min_samples_split=2, n_estimators=700, total=   2.8s\n",
      "[CV] min_samples_leaf=5, min_samples_split=2, n_estimators=700 .......\n",
      "[CV]  min_samples_leaf=5, min_samples_split=2, n_estimators=700, total=   2.9s\n",
      "[CV] min_samples_leaf=5, min_samples_split=2, n_estimators=1200 ......\n",
      "[CV]  min_samples_leaf=5, min_samples_split=2, n_estimators=1200, total=   4.8s\n",
      "[CV] min_samples_leaf=5, min_samples_split=2, n_estimators=1200 ......\n",
      "[CV]  min_samples_leaf=5, min_samples_split=2, n_estimators=1200, total=   5.0s\n",
      "[CV] min_samples_leaf=5, min_samples_split=2, n_estimators=1200 ......\n",
      "[CV]  min_samples_leaf=5, min_samples_split=2, n_estimators=1200, total=   5.0s\n",
      "[CV] min_samples_leaf=5, min_samples_split=2, n_estimators=1200 ......\n",
      "[CV]  min_samples_leaf=5, min_samples_split=2, n_estimators=1200, total=   4.9s\n",
      "[CV] min_samples_leaf=5, min_samples_split=2, n_estimators=1200 ......\n",
      "[CV]  min_samples_leaf=5, min_samples_split=2, n_estimators=1200, total=   5.1s\n",
      "[CV] min_samples_leaf=5, min_samples_split=3, n_estimators=100 .......\n",
      "[CV]  min_samples_leaf=5, min_samples_split=3, n_estimators=100, total=   0.5s\n",
      "[CV] min_samples_leaf=5, min_samples_split=3, n_estimators=100 .......\n",
      "[CV]  min_samples_leaf=5, min_samples_split=3, n_estimators=100, total=   0.5s\n",
      "[CV] min_samples_leaf=5, min_samples_split=3, n_estimators=100 .......\n",
      "[CV]  min_samples_leaf=5, min_samples_split=3, n_estimators=100, total=   0.4s\n",
      "[CV] min_samples_leaf=5, min_samples_split=3, n_estimators=100 .......\n",
      "[CV]  min_samples_leaf=5, min_samples_split=3, n_estimators=100, total=   0.5s\n",
      "[CV] min_samples_leaf=5, min_samples_split=3, n_estimators=100 .......\n",
      "[CV]  min_samples_leaf=5, min_samples_split=3, n_estimators=100, total=   0.4s\n",
      "[CV] min_samples_leaf=5, min_samples_split=3, n_estimators=700 .......\n",
      "[CV]  min_samples_leaf=5, min_samples_split=3, n_estimators=700, total=   3.3s\n",
      "[CV] min_samples_leaf=5, min_samples_split=3, n_estimators=700 .......\n",
      "[CV]  min_samples_leaf=5, min_samples_split=3, n_estimators=700, total=   3.0s\n",
      "[CV] min_samples_leaf=5, min_samples_split=3, n_estimators=700 .......\n",
      "[CV]  min_samples_leaf=5, min_samples_split=3, n_estimators=700, total=   3.4s\n",
      "[CV] min_samples_leaf=5, min_samples_split=3, n_estimators=700 .......\n",
      "[CV]  min_samples_leaf=5, min_samples_split=3, n_estimators=700, total=   3.4s\n",
      "[CV] min_samples_leaf=5, min_samples_split=3, n_estimators=700 .......\n",
      "[CV]  min_samples_leaf=5, min_samples_split=3, n_estimators=700, total=   3.2s\n",
      "[CV] min_samples_leaf=5, min_samples_split=3, n_estimators=1200 ......\n",
      "[CV]  min_samples_leaf=5, min_samples_split=3, n_estimators=1200, total=   6.2s\n",
      "[CV] min_samples_leaf=5, min_samples_split=3, n_estimators=1200 ......\n",
      "[CV]  min_samples_leaf=5, min_samples_split=3, n_estimators=1200, total=   4.5s\n",
      "[CV] min_samples_leaf=5, min_samples_split=3, n_estimators=1200 ......\n",
      "[CV]  min_samples_leaf=5, min_samples_split=3, n_estimators=1200, total=   4.6s\n",
      "[CV] min_samples_leaf=5, min_samples_split=3, n_estimators=1200 ......\n",
      "[CV]  min_samples_leaf=5, min_samples_split=3, n_estimators=1200, total=   4.9s\n",
      "[CV] min_samples_leaf=5, min_samples_split=3, n_estimators=1200 ......\n",
      "[CV]  min_samples_leaf=5, min_samples_split=3, n_estimators=1200, total=   5.3s\n"
     ]
    },
    {
     "name": "stderr",
     "output_type": "stream",
     "text": [
      "[Parallel(n_jobs=1)]: Done  90 out of  90 | elapsed:  4.1min finished\n"
     ]
    },
    {
     "data": {
      "text/plain": [
       "GridSearchCV(cv=5, estimator=RandomForestClassifier(),\n",
       "             param_grid={'min_samples_leaf': [1, 9, 5],\n",
       "                         'min_samples_split': [2, 3],\n",
       "                         'n_estimators': [100, 700, 1200]},\n",
       "             verbose=2)"
      ]
     },
     "execution_count": 53,
     "metadata": {},
     "output_type": "execute_result"
    }
   ],
   "source": [
    "# Tuning RandomForestClassifier\n",
    "\n",
    "rf_grid = {'n_estimators': [100, 700, 1200],\n",
    "           'min_samples_split': [2, 3],\n",
    "           'min_samples_leaf': [1,9,5]}\n",
    "\n",
    "gs_rf = GridSearchCV(RandomForestClassifier(), rf_grid, cv=5, verbose=2)\n",
    "gs_rf.fit(X_train, y_train)"
   ]
  },
  {
   "cell_type": "code",
   "execution_count": 54,
   "metadata": {},
   "outputs": [
    {
     "data": {
      "text/plain": [
       "0.8688524590163934"
      ]
     },
     "execution_count": 54,
     "metadata": {},
     "output_type": "execute_result"
    }
   ],
   "source": [
    "gs_rf.score(X_test, y_test)"
   ]
  },
  {
   "cell_type": "code",
   "execution_count": 55,
   "metadata": {},
   "outputs": [
    {
     "data": {
      "text/plain": [
       "{'min_samples_leaf': 9, 'min_samples_split': 3, 'n_estimators': 100}"
      ]
     },
     "execution_count": 55,
     "metadata": {},
     "output_type": "execute_result"
    }
   ],
   "source": [
    "gs_rf.best_params_"
   ]
  },
  {
   "cell_type": "code",
   "execution_count": 56,
   "metadata": {},
   "outputs": [
    {
     "name": "stdout",
     "output_type": "stream",
     "text": [
      "Fitting 5 folds for each of 6 candidates, totalling 30 fits\n",
      "[CV] C=0.1, max_iter=100, solver=liblinear ...........................\n",
      "[CV] ............ C=0.1, max_iter=100, solver=liblinear, total=   0.0s\n",
      "[CV] C=0.1, max_iter=100, solver=liblinear ...........................\n",
      "[CV] ............ C=0.1, max_iter=100, solver=liblinear, total=   0.0s\n",
      "[CV] C=0.1, max_iter=100, solver=liblinear ...........................\n",
      "[CV] ............ C=0.1, max_iter=100, solver=liblinear, total=   0.0s\n",
      "[CV] C=0.1, max_iter=100, solver=liblinear ...........................\n",
      "[CV] ............ C=0.1, max_iter=100, solver=liblinear, total=   0.0s\n",
      "[CV] C=0.1, max_iter=100, solver=liblinear ...........................\n",
      "[CV] ............ C=0.1, max_iter=100, solver=liblinear, total=   0.0s\n",
      "[CV] C=0.1, max_iter=700, solver=liblinear ...........................\n",
      "[CV] ............ C=0.1, max_iter=700, solver=liblinear, total=   0.0s\n",
      "[CV] C=0.1, max_iter=700, solver=liblinear ...........................\n",
      "[CV] ............ C=0.1, max_iter=700, solver=liblinear, total=   0.0s\n",
      "[CV] C=0.1, max_iter=700, solver=liblinear ...........................\n",
      "[CV] ............ C=0.1, max_iter=700, solver=liblinear, total=   0.0s\n",
      "[CV] C=0.1, max_iter=700, solver=liblinear ...........................\n",
      "[CV] ............ C=0.1, max_iter=700, solver=liblinear, total=   0.0s\n",
      "[CV] C=0.1, max_iter=700, solver=liblinear ...........................\n",
      "[CV] ............ C=0.1, max_iter=700, solver=liblinear, total=   0.0s\n",
      "[CV] C=1, max_iter=100, solver=liblinear .............................\n",
      "[CV] .............. C=1, max_iter=100, solver=liblinear, total=   0.0s"
     ]
    },
    {
     "name": "stderr",
     "output_type": "stream",
     "text": [
      "[Parallel(n_jobs=1)]: Using backend SequentialBackend with 1 concurrent workers.\n",
      "[Parallel(n_jobs=1)]: Done   1 out of   1 | elapsed:    0.0s remaining:    0.0s\n"
     ]
    },
    {
     "name": "stdout",
     "output_type": "stream",
     "text": [
      "\n",
      "[CV] C=1, max_iter=100, solver=liblinear .............................\n",
      "[CV] .............. C=1, max_iter=100, solver=liblinear, total=   0.0s\n",
      "[CV] C=1, max_iter=100, solver=liblinear .............................\n",
      "[CV] .............. C=1, max_iter=100, solver=liblinear, total=   0.0s\n",
      "[CV] C=1, max_iter=100, solver=liblinear .............................\n",
      "[CV] .............. C=1, max_iter=100, solver=liblinear, total=   0.0s\n",
      "[CV] C=1, max_iter=100, solver=liblinear .............................\n",
      "[CV] .............. C=1, max_iter=100, solver=liblinear, total=   0.0s\n",
      "[CV] C=1, max_iter=700, solver=liblinear .............................\n",
      "[CV] .............. C=1, max_iter=700, solver=liblinear, total=   0.0s\n",
      "[CV] C=1, max_iter=700, solver=liblinear .............................\n",
      "[CV] .............. C=1, max_iter=700, solver=liblinear, total=   0.0s\n",
      "[CV] C=1, max_iter=700, solver=liblinear .............................\n",
      "[CV] .............. C=1, max_iter=700, solver=liblinear, total=   0.0s\n",
      "[CV] C=1, max_iter=700, solver=liblinear .............................\n",
      "[CV] .............. C=1, max_iter=700, solver=liblinear, total=   0.0s\n",
      "[CV] C=1, max_iter=700, solver=liblinear .............................\n",
      "[CV] .............. C=1, max_iter=700, solver=liblinear, total=   0.0s\n",
      "[CV] C=10, max_iter=100, solver=liblinear ............................\n",
      "[CV] ............. C=10, max_iter=100, solver=liblinear, total=   0.0s\n",
      "[CV] C=10, max_iter=100, solver=liblinear ............................\n",
      "[CV] ............. C=10, max_iter=100, solver=liblinear, total=   0.0s\n",
      "[CV] C=10, max_iter=100, solver=liblinear ............................\n",
      "[CV] ............. C=10, max_iter=100, solver=liblinear, total=   0.0s\n",
      "[CV] C=10, max_iter=100, solver=liblinear ............................\n",
      "[CV] ............. C=10, max_iter=100, solver=liblinear, total=   0.0s\n",
      "[CV] C=10, max_iter=100, solver=liblinear ............................\n",
      "[CV] ............. C=10, max_iter=100, solver=liblinear, total=   0.0s\n",
      "[CV] C=10, max_iter=700, solver=liblinear ............................\n",
      "[CV] ............. C=10, max_iter=700, solver=liblinear, total=   0.0s\n",
      "[CV] C=10, max_iter=700, solver=liblinear ............................\n",
      "[CV] ............. C=10, max_iter=700, solver=liblinear, total=   0.0s\n",
      "[CV] C=10, max_iter=700, solver=liblinear ............................\n",
      "[CV] ............. C=10, max_iter=700, solver=liblinear, total=   0.0s\n",
      "[CV] C=10, max_iter=700, solver=liblinear ............................\n",
      "[CV] ............. C=10, max_iter=700, solver=liblinear, total=   0.0s\n",
      "[CV] C=10, max_iter=700, solver=liblinear ............................\n",
      "[CV] ............. C=10, max_iter=700, solver=liblinear, total=   0.0s\n"
     ]
    },
    {
     "name": "stderr",
     "output_type": "stream",
     "text": [
      "[Parallel(n_jobs=1)]: Done  30 out of  30 | elapsed:    0.4s finished\n"
     ]
    },
    {
     "data": {
      "text/plain": [
       "GridSearchCV(cv=5, estimator=LogisticRegression(),\n",
       "             param_grid={'C': [0.1, 1, 10], 'max_iter': [100, 700],\n",
       "                         'solver': ['liblinear']},\n",
       "             verbose=2)"
      ]
     },
     "execution_count": 56,
     "metadata": {},
     "output_type": "execute_result"
    }
   ],
   "source": [
    "# Tuning Logistic Regression\n",
    "log_reg_grid = {'solver': ['liblinear'], 'max_iter': [100, 700], 'C': [0.1, 1, 10]}\n",
    "\n",
    "gs_log_reg = GridSearchCV(LogisticRegression(), log_reg_grid, cv=5, verbose=2)\n",
    "gs_log_reg.fit(X_train, y_train)"
   ]
  },
  {
   "cell_type": "code",
   "execution_count": 57,
   "metadata": {},
   "outputs": [
    {
     "data": {
      "text/plain": [
       "0.8852459016393442"
      ]
     },
     "execution_count": 57,
     "metadata": {},
     "output_type": "execute_result"
    }
   ],
   "source": [
    "gs_log_reg.score(X_test, y_test)"
   ]
  },
  {
   "cell_type": "code",
   "execution_count": 58,
   "metadata": {},
   "outputs": [
    {
     "data": {
      "text/plain": [
       "{'C': 1, 'max_iter': 100, 'solver': 'liblinear'}"
      ]
     },
     "execution_count": 58,
     "metadata": {},
     "output_type": "execute_result"
    }
   ],
   "source": [
    "gs_log_reg.best_params_"
   ]
  },
  {
   "cell_type": "markdown",
   "metadata": {},
   "source": [
    "# Evaluating model, beyond accuracy\n",
    "- ROC curve and AUC score\n",
    "- Confusion matrix\n",
    "- Classification report\n",
    "- Precision\n",
    "- Recall\n",
    "- F1 score\n",
    "\n",
    "*Cross-validation will be used where possible.*"
   ]
  },
  {
   "cell_type": "code",
   "execution_count": 61,
   "metadata": {},
   "outputs": [
    {
     "data": {
      "image/png": "[encoded data removed]",
      "text/plain": [
       "<Figure size 432x288 with 1 Axes>"
      ]
     },
     "metadata": {
      "needs_background": "light"
     },
     "output_type": "display_data"
    }
   ],
   "source": [
    "# Instantiate the model with best parameters\n",
    "clf = LogisticRegression(C=1, max_iter=100, solver='liblinear')\n",
    "\n",
    "# Fit the model\n",
    "clf.fit(X_train, y_train)\n",
    "\n",
    "# Plot ROC curve\n",
    "plot_roc_curve(clf, X_test, y_test);"
   ]
  },
  {
   "cell_type": "code",
   "execution_count": 64,
   "metadata": {},
   "outputs": [
    {
     "data": {
      "text/plain": [
       "145    1\n",
       "42     1\n",
       "65     1\n",
       "60     1\n",
       "92     1\n",
       "      ..\n",
       "236    0\n",
       "67     1\n",
       "90     1\n",
       "17     1\n",
       "2      1\n",
       "Name: target, Length: 61, dtype: int64"
      ]
     },
     "execution_count": 64,
     "metadata": {},
     "output_type": "execute_result"
    }
   ],
   "source": [
    "y_test"
   ]
  },
  {
   "cell_type": "code",
   "execution_count": 65,
   "metadata": {},
   "outputs": [],
   "source": [
    "# Make predictions\n",
    "y_pred = clf.predict(X_test)"
   ]
  },
  {
   "cell_type": "code",
   "execution_count": 66,
   "metadata": {},
   "outputs": [
    {
     "data": {
      "text/plain": [
       "array([[15,  5],\n",
       "       [ 2, 39]], dtype=int64)"
      ]
     },
     "execution_count": 66,
     "metadata": {},
     "output_type": "execute_result"
    }
   ],
   "source": [
    "confusion_matrix(y_test, y_pred)"
   ]
  },
  {
   "cell_type": "code",
   "execution_count": 70,
   "metadata": {},
   "outputs": [
    {
     "data": {
      "image/png": "[encoded data removed]",
      "text/plain": [
       "<Figure size 432x288 with 2 Axes>"
      ]
     },
     "metadata": {
      "needs_background": "light"
     },
     "output_type": "display_data"
    }
   ],
   "source": [
    "plot_confusion_matrix(clf, X_test, y_test);"
   ]
  },
  {
   "cell_type": "code",
   "execution_count": 72,
   "metadata": {},
   "outputs": [
    {
     "name": "stdout",
     "output_type": "stream",
     "text": [
      "              precision    recall  f1-score   support\n",
      "\n",
      "           0       0.88      0.75      0.81        20\n",
      "           1       0.89      0.95      0.92        41\n",
      "\n",
      "    accuracy                           0.89        61\n",
      "   macro avg       0.88      0.85      0.86        61\n",
      "weighted avg       0.89      0.89      0.88        61\n",
      "\n"
     ]
    }
   ],
   "source": [
    "print(classification_report(y_test, y_pred))"
   ]
  },
  {
   "cell_type": "markdown",
   "metadata": {},
   "source": [
    "**Cross-validated Accuracy, Precision, Recall, and F1 scores**"
   ]
  },
  {
   "cell_type": "code",
   "execution_count": 78,
   "metadata": {},
   "outputs": [],
   "source": [
    "metrics = ['accuracy', 'precision', 'recall', 'f1']"
   ]
  },
  {
   "cell_type": "code",
   "execution_count": 102,
   "metadata": {},
   "outputs": [],
   "source": [
    "# Function to compute cross-validated Accuracy, Precision, Recall, and F1 scores\n",
    "\n",
    "def compute_metric_scores(estimator, metrics, X, y, num_of_models=5):\n",
    "    metric_scores = {}\n",
    "    for metric in metrics:\n",
    "        metric_scores[metric] = cross_val_score(estimator, X, y,\n",
    "                                                cv=num_of_models, \n",
    "                                                scoring=metric)\n",
    "    return metric_scores"
   ]
  },
  {
   "cell_type": "code",
   "execution_count": 106,
   "metadata": {},
   "outputs": [
    {
     "data": {
      "text/plain": [
       "{'accuracy': array([0.92307692, 0.66666667, 0.91666667, 0.91666667, 0.75      ]),\n",
       " 'precision': array([1.        , 0.75      , 0.88888889, 0.88888889, 0.77777778]),\n",
       " 'recall': array([0.88888889, 0.75      , 1.        , 1.        , 0.875     ]),\n",
       " 'f1': array([0.94117647, 0.75      , 0.94117647, 0.94117647, 0.82352941])}"
      ]
     },
     "execution_count": 106,
     "metadata": {},
     "output_type": "execute_result"
    }
   ],
   "source": [
    "metric_scores = compute_metric_scores(clf, metrics, X_test, y_test)\n",
    "metric_scores"
   ]
  },
  {
   "cell_type": "code",
   "execution_count": 94,
   "metadata": {},
   "outputs": [],
   "source": [
    "def compute_metric_mean_scores(scores):\n",
    "    mean_scores = {}\n",
    "    for metric, array in scores.items():\n",
    "        mean_scores[metric] = np.mean(array)\n",
    "    return mean_scores"
   ]
  },
  {
   "cell_type": "code",
   "execution_count": 107,
   "metadata": {},
   "outputs": [
    {
     "data": {
      "text/plain": [
       "{'accuracy': 0.8346153846153846,\n",
       " 'precision': 0.861111111111111,\n",
       " 'recall': 0.9027777777777779,\n",
       " 'f1': 0.8794117647058822}"
      ]
     },
     "execution_count": 107,
     "metadata": {},
     "output_type": "execute_result"
    }
   ],
   "source": [
    "metric_mean_scores = compute_metric_mean_scores(metric_scores)\n",
    "metric_mean_scores"
   ]
  },
  {
   "cell_type": "code",
   "execution_count": 128,
   "metadata": {},
   "outputs": [
    {
     "data": {
      "image/png": "[encoded data removed]",
      "text/plain": [
       "<Figure size 432x288 with 1 Axes>"
      ]
     },
     "metadata": {
      "needs_background": "light"
     },
     "output_type": "display_data"
    }
   ],
   "source": [
    "# Visualize cross-validated metrics\n",
    "cv_metrics = pd.DataFrame(metric_mean_scores.values(), index=metric_mean_scores.keys())\n",
    "cv_metrics.plot.bar(legend=False)\n",
    "plt.xticks(rotation=0)\n",
    "plt.title('Cross-validated classification metrics');"
   ]
  },
  {
   "cell_type": "markdown",
   "metadata": {},
   "source": [
    "### Feature Importance\n",
    "\n",
    "Feature importance is another way of asking which features contributed most to the outcomes of the model and how did they contribute?\n",
    "\n",
    "Finding feature importance is different for each machine learning model."
   ]
  },
  {
   "cell_type": "markdown",
   "metadata": {},
   "source": [
    "**Feature importance of Logistic Regression**"
   ]
  },
  {
   "cell_type": "code",
   "execution_count": 130,
   "metadata": {},
   "outputs": [
    {
     "data": {
      "text/plain": [
       "array([[ 0.02002651, -1.57125991,  0.70974503, -0.01646397, -0.00347072,\n",
       "        -0.21431278,  0.64147185,  0.02983723, -0.92053141, -0.54160945,\n",
       "         0.35626279, -0.71295858, -0.77906756]])"
      ]
     },
     "execution_count": 130,
     "metadata": {},
     "output_type": "execute_result"
    }
   ],
   "source": [
    "# Check coef_\n",
    "clf.coef_"
   ]
  },
  {
   "cell_type": "code",
   "execution_count": 133,
   "metadata": {},
   "outputs": [
    {
     "data": {
      "text/plain": [
       "{'age': 0.020026505764564245,\n",
       " 'sex': -1.5712599136736796,\n",
       " 'cp': 0.709745033063706,\n",
       " 'trestbps': -0.016463967664244333,\n",
       " 'chol': -0.003470720504041314,\n",
       " 'fbs': -0.21431277757644476,\n",
       " 'restecg': 0.6414718519765883,\n",
       " 'thalach': 0.029837230906337085,\n",
       " 'exang': -0.9205314068367085,\n",
       " 'oldpeak': -0.5416094476293489,\n",
       " 'slope': 0.3562627879170945,\n",
       " 'ca': -0.7129585841617135,\n",
       " 'thal': -0.7790675613654283}"
      ]
     },
     "execution_count": 133,
     "metadata": {},
     "output_type": "execute_result"
    }
   ],
   "source": [
    "# Match coef of features to columns\n",
    "feature_dict = dict(zip(df.columns, list(clf.coef_[0])))\n",
    "feature_dict"
   ]
  },
  {
   "cell_type": "code",
   "execution_count": 149,
   "metadata": {},
   "outputs": [
    {
     "data": {
      "text/html": [
       "<div>\n",
       "<style scoped>\n",
       "    .dataframe tbody tr th:only-of-type {\n",
       "        vertical-align: middle;\n",
       "    }\n",
       "\n",
       "    .dataframe tbody tr th {\n",
       "        vertical-align: top;\n",
       "    }\n",
       "\n",
       "    .dataframe thead th {\n",
       "        text-align: right;\n",
       "    }\n",
       "</style>\n",
       "<table border=\"1\" class=\"dataframe\">\n",
       "  <thead>\n",
       "    <tr style=\"text-align: right;\">\n",
       "      <th></th>\n",
       "      <th>0</th>\n",
       "    </tr>\n",
       "  </thead>\n",
       "  <tbody>\n",
       "    <tr>\n",
       "      <th>age</th>\n",
       "      <td>0.020027</td>\n",
       "    </tr>\n",
       "    <tr>\n",
       "      <th>sex</th>\n",
       "      <td>-1.571260</td>\n",
       "    </tr>\n",
       "    <tr>\n",
       "      <th>cp</th>\n",
       "      <td>0.709745</td>\n",
       "    </tr>\n",
       "    <tr>\n",
       "      <th>trestbps</th>\n",
       "      <td>-0.016464</td>\n",
       "    </tr>\n",
       "    <tr>\n",
       "      <th>chol</th>\n",
       "      <td>-0.003471</td>\n",
       "    </tr>\n",
       "    <tr>\n",
       "      <th>fbs</th>\n",
       "      <td>-0.214313</td>\n",
       "    </tr>\n",
       "    <tr>\n",
       "      <th>restecg</th>\n",
       "      <td>0.641472</td>\n",
       "    </tr>\n",
       "    <tr>\n",
       "      <th>thalach</th>\n",
       "      <td>0.029837</td>\n",
       "    </tr>\n",
       "    <tr>\n",
       "      <th>exang</th>\n",
       "      <td>-0.920531</td>\n",
       "    </tr>\n",
       "    <tr>\n",
       "      <th>oldpeak</th>\n",
       "      <td>-0.541609</td>\n",
       "    </tr>\n",
       "    <tr>\n",
       "      <th>slope</th>\n",
       "      <td>0.356263</td>\n",
       "    </tr>\n",
       "    <tr>\n",
       "      <th>ca</th>\n",
       "      <td>-0.712959</td>\n",
       "    </tr>\n",
       "    <tr>\n",
       "      <th>thal</th>\n",
       "      <td>-0.779068</td>\n",
       "    </tr>\n",
       "  </tbody>\n",
       "</table>\n",
       "</div>"
      ],
      "text/plain": [
       "                 0\n",
       "age       0.020027\n",
       "sex      -1.571260\n",
       "cp        0.709745\n",
       "trestbps -0.016464\n",
       "chol     -0.003471\n",
       "fbs      -0.214313\n",
       "restecg   0.641472\n",
       "thalach   0.029837\n",
       "exang    -0.920531\n",
       "oldpeak  -0.541609\n",
       "slope     0.356263\n",
       "ca       -0.712959\n",
       "thal     -0.779068"
      ]
     },
     "execution_count": 149,
     "metadata": {},
     "output_type": "execute_result"
    }
   ],
   "source": [
    "# Visualize feature importance\n",
    "feature_df = pd.DataFrame(feature_dict.values(), index=feature_dict.keys())\n",
    "feature_df"
   ]
  },
  {
   "cell_type": "code",
   "execution_count": 154,
   "metadata": {},
   "outputs": [
    {
     "data": {
      "image/png": "[encoded data removed]",
      "text/plain": [
       "<Figure size 720x432 with 1 Axes>"
      ]
     },
     "metadata": {},
     "output_type": "display_data"
    }
   ],
   "source": [
    "feature_df.plot.bar(title='Feature Importance', legend=False, figsize=(10,6))\n",
    "plt.style.use('seaborn');"
   ]
  },
  {
   "cell_type": "markdown",
   "metadata": {},
   "source": [
    "The most important features on this data are sex, exang, cp, thal, ca.\n",
    "\n",
    "The least important features are age, trestbps, chol, thalach."
   ]
  },
  {
   "cell_type": "code",
   "execution_count": null,
   "metadata": {},
   "outputs": [],
   "source": []
  }
 ],
 "metadata": {
  "kernelspec": {
   "display_name": "Python 3",
   "language": "python",
   "name": "python3"
  },
  "language_info": {
   "codemirror_mode": {
    "name": "ipython",
    "version": 3
   },
   "file_extension": ".py",
   "mimetype": "text/x-python",
   "name": "python",
   "nbconvert_exporter": "python",
   "pygments_lexer": "ipython3",
   "version": "3.8.5"
  }
 },
 "nbformat": 4,
 "nbformat_minor": 4
}
